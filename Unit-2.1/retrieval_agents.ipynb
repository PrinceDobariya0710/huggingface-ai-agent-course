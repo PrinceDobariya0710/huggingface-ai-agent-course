{
  "cells": [
    {
      "cell_type": "markdown",
      "metadata": {
        "id": "JJHmRIZy4svX"
      },
      "source": [
        "# Building Agentic RAG Systems\n",
        "\n",
        "This notebook is part of the [Hugging Face Agents Course](https://www.hf.co/learn/agents-course), a free Course from beginner to expert, where you learn to build Agents.\n",
        "\n",
        "![Agents course share](https://huggingface.co/datasets/agents-course/course-images/resolve/main/en/communication/share.png)"
      ]
    },
    {
      "cell_type": "markdown",
      "metadata": {
        "id": "vNHb_Xna4x_3"
      },
      "source": [
        "## Let's install the dependencies and login to our HF account to access the Inference API\n",
        "\n",
        "If you haven't installed `smolagents` yet, you can do so by running the following command:the dependencies and login to our HF account to access the Inference API\n"
      ]
    },
    {
      "cell_type": "code",
      "execution_count": null,
      "metadata": {
        "id": "NRWw2n4S4Y87"
      },
      "outputs": [],
      "source": [
        "!pip install python-dotenv==1.0.1 \n",
        "!pip install google-auth smolagents[litellm]\n",
        "!pip install llama-index-tools-google llama-index-llms-gemini llama-index-embeddings-gemini"
      ]
    },
    {
      "cell_type": "markdown",
      "metadata": {
        "id": "agkxF_blaYid"
      },
      "source": [
        "Let's also login to the Hugging Face Hub to have access to the Inference API."
      ]
    },
    {
      "cell_type": "code",
      "execution_count": null,
      "metadata": {
        "id": "KiFQS5wj4mXy"
      },
      "outputs": [],
      "source": [
        "from huggingface_hub import notebook_login\n",
        "\n",
        "notebook_login()"
      ]
    },
    {
      "cell_type": "markdown",
      "metadata": {
        "id": "toG-RqWX4sIx"
      },
      "source": [
        "## Basic Retrieval with DuckDuckGo\n",
        "\n",
        "Let's build a simple agent that can search the web using DuckDuckGo. This agent will retrieve information and synthesize responses to answer queries. With Agentic RAG, Alfred's agent can:\n",
        "\n",
        "* Search for latest superhero party trends\n",
        "* Refine results to include luxury elements\n",
        "* Synthesize information into a complete plan\n",
        "\n",
        "Here's how Alfred's agent can achieve this:"
      ]
    },
    {
      "cell_type": "markdown",
      "metadata": {},
      "source": [
        "Use below code if you are using notebook in local machine"
      ]
    },
    {
      "cell_type": "code",
      "execution_count": 1,
      "metadata": {},
      "outputs": [],
      "source": [
        "from smolagents import LiteLLMModel\n",
        "from dotenv import load_dotenv\n",
        "import os\n",
        "\n",
        "load_dotenv()\n",
        "\n",
        "# Replace all calls to HfApiModel\n",
        "llm_model = LiteLLMModel(\n",
        "    model_id=\"gemini/gemini-2.0-flash\", # you can see other model names here: https://cloud.google.com/vertex-ai/generative-ai/docs/learn/models. It is important to prefix the name with \"gemini/\"\n",
        "    api_key=os.getenv(\"GEMINI_API_KEY\"),\n",
        "    max_tokens=8192\n",
        ")"
      ]
    },
    {
      "cell_type": "markdown",
      "metadata": {},
      "source": [
        "Use below code if you are using notebook in Google Collab"
      ]
    },
    {
      "cell_type": "code",
      "execution_count": null,
      "metadata": {},
      "outputs": [],
      "source": [
        "from smolagents import LiteLLMModel\n",
        "\n",
        "from google.colab import userdata\n",
        "\n",
        "# Replace all calls to HfApiModel\n",
        "llm_model = LiteLLMModel(\n",
        "    model_id=\"gemini/gemini-2.0-flash\", # you can see other model names here: https://cloud.google.com/vertex-ai/generative-ai/docs/learn/models. It is important to prefix the name with \"gemini/\"\n",
        "    api_key=userdata.get('GEMINI_API_KEY'),\n",
        "    max_tokens=8192\n",
        ")"
      ]
    },
    {
      "cell_type": "code",
      "execution_count": 2,
      "metadata": {
        "colab": {
          "base_uri": "https://localhost:8080/",
          "height": 1000
        },
        "id": "DPklsecm4sQA",
        "outputId": "cd092c8b-4ab9-4ba6-e83e-30b0f21cbaf6"
      },
      "outputs": [
        {
          "data": {
            "text/html": [
              "<pre style=\"white-space:pre;overflow-x:auto;line-height:normal;font-family:Menlo,'DejaVu Sans Mono',consolas,'Courier New',monospace\"><span style=\"color: #d4b702; text-decoration-color: #d4b702\">╭──────────────────────────────────────────────────── </span><span style=\"color: #d4b702; text-decoration-color: #d4b702; font-weight: bold\">New run</span><span style=\"color: #d4b702; text-decoration-color: #d4b702\"> ────────────────────────────────────────────────────╮</span>\n",
              "<span style=\"color: #d4b702; text-decoration-color: #d4b702\">│</span>                                                                                                                 <span style=\"color: #d4b702; text-decoration-color: #d4b702\">│</span>\n",
              "<span style=\"color: #d4b702; text-decoration-color: #d4b702\">│</span> <span style=\"font-weight: bold\">Search for luxury superhero-themed party ideas, including decorations, entertainment, and catering.</span>             <span style=\"color: #d4b702; text-decoration-color: #d4b702\">│</span>\n",
              "<span style=\"color: #d4b702; text-decoration-color: #d4b702\">│</span>                                                                                                                 <span style=\"color: #d4b702; text-decoration-color: #d4b702\">│</span>\n",
              "<span style=\"color: #d4b702; text-decoration-color: #d4b702\">╰─ LiteLLMModel - gemini/gemini-2.0-flash ────────────────────────────────────────────────────────────────────────╯</span>\n",
              "</pre>\n"
            ],
            "text/plain": [
              "\u001b[38;2;212;183;2m╭─\u001b[0m\u001b[38;2;212;183;2m───────────────────────────────────────────────────\u001b[0m\u001b[38;2;212;183;2m \u001b[0m\u001b[1;38;2;212;183;2mNew run\u001b[0m\u001b[38;2;212;183;2m \u001b[0m\u001b[38;2;212;183;2m───────────────────────────────────────────────────\u001b[0m\u001b[38;2;212;183;2m─╮\u001b[0m\n",
              "\u001b[38;2;212;183;2m│\u001b[0m                                                                                                                 \u001b[38;2;212;183;2m│\u001b[0m\n",
              "\u001b[38;2;212;183;2m│\u001b[0m \u001b[1mSearch for luxury superhero-themed party ideas, including decorations, entertainment, and catering.\u001b[0m             \u001b[38;2;212;183;2m│\u001b[0m\n",
              "\u001b[38;2;212;183;2m│\u001b[0m                                                                                                                 \u001b[38;2;212;183;2m│\u001b[0m\n",
              "\u001b[38;2;212;183;2m╰─\u001b[0m\u001b[38;2;212;183;2m LiteLLMModel - gemini/gemini-2.0-flash \u001b[0m\u001b[38;2;212;183;2m───────────────────────────────────────────────────────────────────────\u001b[0m\u001b[38;2;212;183;2m─╯\u001b[0m\n"
            ]
          },
          "metadata": {},
          "output_type": "display_data"
        },
        {
          "data": {
            "text/html": [
              "<pre style=\"white-space:pre;overflow-x:auto;line-height:normal;font-family:Menlo,'DejaVu Sans Mono',consolas,'Courier New',monospace\"><span style=\"color: #d4b702; text-decoration-color: #d4b702\">━━━━━━━━━━━━━━━━━━━━━━━━━━━━━━━━━━━━━━━━━━━━━━━━━━━━━ </span><span style=\"font-weight: bold\">Step </span><span style=\"color: #008080; text-decoration-color: #008080; font-weight: bold\">1</span><span style=\"color: #d4b702; text-decoration-color: #d4b702\"> ━━━━━━━━━━━━━━━━━━━━━━━━━━━━━━━━━━━━━━━━━━━━━━━━━━━━━━</span>\n",
              "</pre>\n"
            ],
            "text/plain": [
              "\u001b[38;2;212;183;2m━━━━━━━━━━━━━━━━━━━━━━━━━━━━━━━━━━━━━━━━━━━━━━━━━━━━━ \u001b[0m\u001b[1mStep \u001b[0m\u001b[1;36m1\u001b[0m\u001b[38;2;212;183;2m ━━━━━━━━━━━━━━━━━━━━━━━━━━━━━━━━━━━━━━━━━━━━━━━━━━━━━━\u001b[0m\n"
            ]
          },
          "metadata": {},
          "output_type": "display_data"
        },
        {
          "name": "stderr",
          "output_type": "stream",
          "text": [
            "\u001b[92m13:27:55 - LiteLLM:ERROR\u001b[0m: litellm_logging.py:3525 - Error creating standard logging object - __annotations__\n",
            "Traceback (most recent call last):\n",
            "  File \"c:\\Learning\\Huggingface-AI-Agent-Course\\.venv\\Lib\\site-packages\\litellm\\litellm_core_utils\\litellm_logging.py\", line 3507, in get_standard_logging_object_payload\n",
            "    model_parameters=ModelParamHelper.get_standard_logging_model_parameters(\n",
            "                     ^^^^^^^^^^^^^^^^^^^^^^^^^^^^^^^^^^^^^^^^^^^^^^^^^^^^^^^\n",
            "  File \"c:\\Learning\\Huggingface-AI-Agent-Course\\.venv\\Lib\\site-packages\\litellm\\litellm_core_utils\\model_param_helper.py\", line 28, in get_standard_logging_model_parameters\n",
            "    ModelParamHelper._get_relevant_args_to_use_for_logging()\n",
            "  File \"c:\\Learning\\Huggingface-AI-Agent-Course\\.venv\\Lib\\site-packages\\litellm\\litellm_core_utils\\model_param_helper.py\", line 45, in _get_relevant_args_to_use_for_logging\n",
            "    all_openai_llm_api_params = ModelParamHelper._get_all_llm_api_params()\n",
            "                                ^^^^^^^^^^^^^^^^^^^^^^^^^^^^^^^^^^^^^^^^^^\n",
            "  File \"c:\\Learning\\Huggingface-AI-Agent-Course\\.venv\\Lib\\site-packages\\litellm\\litellm_core_utils\\model_param_helper.py\", line 65, in _get_all_llm_api_params\n",
            "    ModelParamHelper._get_litellm_supported_transcription_kwargs()\n",
            "  File \"c:\\Learning\\Huggingface-AI-Agent-Course\\.venv\\Lib\\site-packages\\litellm\\litellm_core_utils\\model_param_helper.py\", line 126, in _get_litellm_supported_transcription_kwargs\n",
            "    return set(TranscriptionCreateParams.__annotations__.keys())\n",
            "               ^^^^^^^^^^^^^^^^^^^^^^^^^^^^^^^^^^^^^^^^^\n",
            "  File \"C:\\Python312\\Lib\\typing.py\", line 1213, in __getattr__\n",
            "    raise AttributeError(attr)\n",
            "AttributeError: __annotations__\n"
          ]
        },
        {
          "data": {
            "text/html": [
              "<pre style=\"white-space:pre;overflow-x:auto;line-height:normal;font-family:Menlo,'DejaVu Sans Mono',consolas,'Courier New',monospace\"> ─ <span style=\"font-weight: bold\">Executing parsed code:</span> ──────────────────────────────────────────────────────────────────────────────────────── \n",
              "  <span style=\"color: #f8f8f2; text-decoration-color: #f8f8f2; background-color: #272822\">search_query </span><span style=\"color: #ff4689; text-decoration-color: #ff4689; background-color: #272822\">=</span><span style=\"color: #f8f8f2; text-decoration-color: #f8f8f2; background-color: #272822\"> </span><span style=\"color: #e6db74; text-decoration-color: #e6db74; background-color: #272822\">\"luxury superhero party ideas decorations entertainment catering\"</span><span style=\"background-color: #272822\">                               </span>  \n",
              "  <span style=\"color: #f8f8f2; text-decoration-color: #f8f8f2; background-color: #272822\">search_results </span><span style=\"color: #ff4689; text-decoration-color: #ff4689; background-color: #272822\">=</span><span style=\"color: #f8f8f2; text-decoration-color: #f8f8f2; background-color: #272822\"> web_search(query</span><span style=\"color: #ff4689; text-decoration-color: #ff4689; background-color: #272822\">=</span><span style=\"color: #f8f8f2; text-decoration-color: #f8f8f2; background-color: #272822\">search_query)</span><span style=\"background-color: #272822\">                                                                </span>  \n",
              "  <span style=\"color: #f8f8f2; text-decoration-color: #f8f8f2; background-color: #272822\">print(search_results)</span><span style=\"background-color: #272822\">                                                                                          </span>  \n",
              " ───────────────────────────────────────────────────────────────────────────────────────────────────────────────── \n",
              "</pre>\n"
            ],
            "text/plain": [
              " ─ \u001b[1mExecuting parsed code:\u001b[0m ──────────────────────────────────────────────────────────────────────────────────────── \n",
              "  \u001b[38;2;248;248;242;48;2;39;40;34msearch_query\u001b[0m\u001b[38;2;248;248;242;48;2;39;40;34m \u001b[0m\u001b[38;2;255;70;137;48;2;39;40;34m=\u001b[0m\u001b[38;2;248;248;242;48;2;39;40;34m \u001b[0m\u001b[38;2;230;219;116;48;2;39;40;34m\"\u001b[0m\u001b[38;2;230;219;116;48;2;39;40;34mluxury superhero party ideas decorations entertainment catering\u001b[0m\u001b[38;2;230;219;116;48;2;39;40;34m\"\u001b[0m\u001b[48;2;39;40;34m                               \u001b[0m  \n",
              "  \u001b[38;2;248;248;242;48;2;39;40;34msearch_results\u001b[0m\u001b[38;2;248;248;242;48;2;39;40;34m \u001b[0m\u001b[38;2;255;70;137;48;2;39;40;34m=\u001b[0m\u001b[38;2;248;248;242;48;2;39;40;34m \u001b[0m\u001b[38;2;248;248;242;48;2;39;40;34mweb_search\u001b[0m\u001b[38;2;248;248;242;48;2;39;40;34m(\u001b[0m\u001b[38;2;248;248;242;48;2;39;40;34mquery\u001b[0m\u001b[38;2;255;70;137;48;2;39;40;34m=\u001b[0m\u001b[38;2;248;248;242;48;2;39;40;34msearch_query\u001b[0m\u001b[38;2;248;248;242;48;2;39;40;34m)\u001b[0m\u001b[48;2;39;40;34m                                                                \u001b[0m  \n",
              "  \u001b[38;2;248;248;242;48;2;39;40;34mprint\u001b[0m\u001b[38;2;248;248;242;48;2;39;40;34m(\u001b[0m\u001b[38;2;248;248;242;48;2;39;40;34msearch_results\u001b[0m\u001b[38;2;248;248;242;48;2;39;40;34m)\u001b[0m\u001b[48;2;39;40;34m                                                                                          \u001b[0m  \n",
              " ───────────────────────────────────────────────────────────────────────────────────────────────────────────────── \n"
            ]
          },
          "metadata": {},
          "output_type": "display_data"
        },
        {
          "name": "stderr",
          "output_type": "stream",
          "text": [
            "\u001b[92m13:27:55 - LiteLLM:ERROR\u001b[0m: litellm_logging.py:3525 - Error creating standard logging object - __annotations__\n",
            "Traceback (most recent call last):\n",
            "  File \"c:\\Learning\\Huggingface-AI-Agent-Course\\.venv\\Lib\\site-packages\\litellm\\litellm_core_utils\\litellm_logging.py\", line 3507, in get_standard_logging_object_payload\n",
            "    model_parameters=ModelParamHelper.get_standard_logging_model_parameters(\n",
            "                     ^^^^^^^^^^^^^^^^^^^^^^^^^^^^^^^^^^^^^^^^^^^^^^^^^^^^^^^\n",
            "  File \"c:\\Learning\\Huggingface-AI-Agent-Course\\.venv\\Lib\\site-packages\\litellm\\litellm_core_utils\\model_param_helper.py\", line 28, in get_standard_logging_model_parameters\n",
            "    ModelParamHelper._get_relevant_args_to_use_for_logging()\n",
            "  File \"c:\\Learning\\Huggingface-AI-Agent-Course\\.venv\\Lib\\site-packages\\litellm\\litellm_core_utils\\model_param_helper.py\", line 45, in _get_relevant_args_to_use_for_logging\n",
            "    all_openai_llm_api_params = ModelParamHelper._get_all_llm_api_params()\n",
            "                                ^^^^^^^^^^^^^^^^^^^^^^^^^^^^^^^^^^^^^^^^^^\n",
            "  File \"c:\\Learning\\Huggingface-AI-Agent-Course\\.venv\\Lib\\site-packages\\litellm\\litellm_core_utils\\model_param_helper.py\", line 65, in _get_all_llm_api_params\n",
            "    ModelParamHelper._get_litellm_supported_transcription_kwargs()\n",
            "  File \"c:\\Learning\\Huggingface-AI-Agent-Course\\.venv\\Lib\\site-packages\\litellm\\litellm_core_utils\\model_param_helper.py\", line 126, in _get_litellm_supported_transcription_kwargs\n",
            "    return set(TranscriptionCreateParams.__annotations__.keys())\n",
            "               ^^^^^^^^^^^^^^^^^^^^^^^^^^^^^^^^^^^^^^^^^\n",
            "  File \"C:\\Python312\\Lib\\typing.py\", line 1213, in __getattr__\n",
            "    raise AttributeError(attr)\n",
            "AttributeError: __annotations__\n"
          ]
        },
        {
          "data": {
            "text/html": [
              "<pre style=\"white-space:pre;overflow-x:auto;line-height:normal;font-family:Menlo,'DejaVu Sans Mono',consolas,'Courier New',monospace\"><span style=\"font-weight: bold\">Execution logs:</span>\n",
              "## Search Results\n",
              "\n",
              "[15 Ideas for Superhero-Themed Events - \n",
              "BizBash](https://www.bizbash.com/catering-design/event-design-decor/media-gallery/13479192/15-ideas-for-superheroth\n",
              "emed-events)\n",
              "Event Design &amp; Decor; 15 Ideas for Superhero-Themed Events. ... Funky entertainment and Batman-like decor dominated\n",
              "the Hope and Help Center of Florida's ... The Segerstrom Center for the Arts' milestone fundraiser raised a \n",
              "record-breaking $19.2 million through glamorous decor, creative catering, and a 90-minute medley from the one and \n",
              "only ...\n",
              "\n",
              "[24 Superhero Party Ideas that Will Make You Wish You Were a \n",
              "Kid](https://howdoesshe.com/24-incredible-superhero-party-ideas-that-will-make-you-wish-you-were-a-kid-again/)\n",
              "If you are willing to arrange your own superhero party, here are some great ideas for your themed party. Try some \n",
              "for your little superhero's next party! 24 Incredible Superhero Party Ideas! 1. Condiments and beverages that \n",
              "really \"POP!\" 2. Comic strip cones using comic book pages to put all sorts of snacks in. So easy for grabbing! The \n",
              "...\n",
              "\n",
              "[By a Pro: Superhero Party Ideas by a Professional](https://party-ideas-by-a-pro.com/party-themes/superhero-party/)\n",
              "Superhero party ideas by an award winning professional party planner including ideas for invitations, party food &amp; \n",
              "drinks, decorations, and party supplies ... (below, by Epicure Catering via The Herald Sun) in shot glasses and \n",
              "call them Hulk Gamma-Ray Soup Shots (serve with toast or mini grilled cheese sandwiches to dip). Or see this ...\n",
              "\n",
              "[Heroes and Villains: The Ultimate Guide to Superhero \n",
              "Parties](https://scarlettentertainment.com/blog/heroes-and-villains-the-ultimate-guide-to-superhero-parties)\n",
              "Worshipped by millions, comic book characters are more popular than ever, which consequently make heroes and \n",
              "villains parties a steady entertainment trend. Especially popular for Halloween party themes, Superhero parties are\n",
              "the go-to theme for any sort of event these days, and be aware: villains are now VIP guests!\n",
              "\n",
              "[The Best Superhero Party Ideas For An Epic Party - Smart Party \n",
              "Planning](https://smartpartyplanning.com/superhero-party-ideas/)\n",
              "Awesome superhero party ideas that will have your kids showing off their superhero powers in no time at all. With \n",
              "ideas for decorations, food and party games you will easily win the status of superhero mom. These ideas can be \n",
              "achieved on a budget with a bit of DIY. The kids are going to love them. Related articles: 5 Awesome Batman Party \n",
              "Ideas\n",
              "\n",
              "[Mini Party Plan: How to Plan a Superhero Birthday \n",
              "Party](https://thepartyteacher.com/2018/08/23/mini-party-plan-superhero-party/)\n",
              "One of the most popular posts on this blog is a girl's superhero party. So I thought it might be fun to create a \n",
              "mini party plan for a superhero birthday party. I styled this mini party plan in the traditional red, yellow, and \n",
              "blue, but you could change the color palette for a more girly pink and purple superhero party, if you prefer.\n",
              "\n",
              "[Fantastic Decorating Ideas for an Adult Superhero \n",
              "Party](https://celebrateeverydaywithme.com/fantastic-decorating-ideas-for-an-adult-superhero-party/)\n",
              "Oh and something else I loved: if guests wore a superhero t-shirt or a cape, they received a bonus five tickets for\n",
              "the chinese auction. How fun it was to look around the room and see adults get into the superhero party theme! \n",
              "Party Products Used: LED Battery Operated Lights; Basket Filler; Superhero Mini Buttons (pins) Fringed Door \n",
              "Curtains\n",
              "\n",
              "[Luxury Party Ideas, Venues and Top Event Professionals | PartySlate](https://www.partyslate.com/)\n",
              "Engaging Entertainment. New Trends. One-of-a-Kind Venues. Plan Your Dream Event. Weddings, galas, birthdays, and \n",
              "more, PartySlate helps you find venues, vendors, and ideas you can't find anywhere else. ... 12 Birthday Party \n",
              "Ideas That Will Make This Year Count by Amanda • 12 items View all featured idea slates. Find venues &amp; event spaces\n",
              "by ...\n",
              "\n",
              "[30+ Easy Superhero Party Ideas You Can Perfect on a \n",
              "Budget](https://www.frugalcouponliving.com/superhero-party-ideas/)\n",
              "Enjoy the best DIY superhero party ideas, recipes, décor, games and more to make planning a party easy-peasy. \n",
              "Planning a themed party can be a lot of fun. And with so many popular Marvel, Avengers and DC movies being released\n",
              "in recent years, it's no wonder that superhero parties are becoming increasingly popular.\n",
              "\n",
              "[900+ Superhero Party Ideas in 2025 - Pinterest](https://www.pinterest.com/catchmyparty/superhero-party-ideas/)\n",
              "Mar 13, 2025 - Superhero party ideas for birthdays -- Superhero cakes, decorations, party foods and favors. See \n",
              "more party ideas at CatchMyParty.com. See more ideas about superhero party, superhero birthday, superhero birthday \n",
              "party.\n",
              "\n",
              "Out: None\n",
              "</pre>\n"
            ],
            "text/plain": [
              "\u001b[1mExecution logs:\u001b[0m\n",
              "## Search Results\n",
              "\n",
              "[15 Ideas for Superhero-Themed Events - \n",
              "BizBash](https://www.bizbash.com/catering-design/event-design-decor/media-gallery/13479192/15-ideas-for-superheroth\n",
              "emed-events)\n",
              "Event Design & Decor; 15 Ideas for Superhero-Themed Events. ... Funky entertainment and Batman-like decor dominated\n",
              "the Hope and Help Center of Florida's ... The Segerstrom Center for the Arts' milestone fundraiser raised a \n",
              "record-breaking $19.2 million through glamorous decor, creative catering, and a 90-minute medley from the one and \n",
              "only ...\n",
              "\n",
              "[24 Superhero Party Ideas that Will Make You Wish You Were a \n",
              "Kid](https://howdoesshe.com/24-incredible-superhero-party-ideas-that-will-make-you-wish-you-were-a-kid-again/)\n",
              "If you are willing to arrange your own superhero party, here are some great ideas for your themed party. Try some \n",
              "for your little superhero's next party! 24 Incredible Superhero Party Ideas! 1. Condiments and beverages that \n",
              "really \"POP!\" 2. Comic strip cones using comic book pages to put all sorts of snacks in. So easy for grabbing! The \n",
              "...\n",
              "\n",
              "[By a Pro: Superhero Party Ideas by a Professional](https://party-ideas-by-a-pro.com/party-themes/superhero-party/)\n",
              "Superhero party ideas by an award winning professional party planner including ideas for invitations, party food & \n",
              "drinks, decorations, and party supplies ... (below, by Epicure Catering via The Herald Sun) in shot glasses and \n",
              "call them Hulk Gamma-Ray Soup Shots (serve with toast or mini grilled cheese sandwiches to dip). Or see this ...\n",
              "\n",
              "[Heroes and Villains: The Ultimate Guide to Superhero \n",
              "Parties](https://scarlettentertainment.com/blog/heroes-and-villains-the-ultimate-guide-to-superhero-parties)\n",
              "Worshipped by millions, comic book characters are more popular than ever, which consequently make heroes and \n",
              "villains parties a steady entertainment trend. Especially popular for Halloween party themes, Superhero parties are\n",
              "the go-to theme for any sort of event these days, and be aware: villains are now VIP guests!\n",
              "\n",
              "[The Best Superhero Party Ideas For An Epic Party - Smart Party \n",
              "Planning](https://smartpartyplanning.com/superhero-party-ideas/)\n",
              "Awesome superhero party ideas that will have your kids showing off their superhero powers in no time at all. With \n",
              "ideas for decorations, food and party games you will easily win the status of superhero mom. These ideas can be \n",
              "achieved on a budget with a bit of DIY. The kids are going to love them. Related articles: 5 Awesome Batman Party \n",
              "Ideas\n",
              "\n",
              "[Mini Party Plan: How to Plan a Superhero Birthday \n",
              "Party](https://thepartyteacher.com/2018/08/23/mini-party-plan-superhero-party/)\n",
              "One of the most popular posts on this blog is a girl's superhero party. So I thought it might be fun to create a \n",
              "mini party plan for a superhero birthday party. I styled this mini party plan in the traditional red, yellow, and \n",
              "blue, but you could change the color palette for a more girly pink and purple superhero party, if you prefer.\n",
              "\n",
              "[Fantastic Decorating Ideas for an Adult Superhero \n",
              "Party](https://celebrateeverydaywithme.com/fantastic-decorating-ideas-for-an-adult-superhero-party/)\n",
              "Oh and something else I loved: if guests wore a superhero t-shirt or a cape, they received a bonus five tickets for\n",
              "the chinese auction. How fun it was to look around the room and see adults get into the superhero party theme! \n",
              "Party Products Used: LED Battery Operated Lights; Basket Filler; Superhero Mini Buttons (pins) Fringed Door \n",
              "Curtains\n",
              "\n",
              "[Luxury Party Ideas, Venues and Top Event Professionals | PartySlate](https://www.partyslate.com/)\n",
              "Engaging Entertainment. New Trends. One-of-a-Kind Venues. Plan Your Dream Event. Weddings, galas, birthdays, and \n",
              "more, PartySlate helps you find venues, vendors, and ideas you can't find anywhere else. ... 12 Birthday Party \n",
              "Ideas That Will Make This Year Count by Amanda • 12 items View all featured idea slates. Find venues & event spaces\n",
              "by ...\n",
              "\n",
              "[30+ Easy Superhero Party Ideas You Can Perfect on a \n",
              "Budget](https://www.frugalcouponliving.com/superhero-party-ideas/)\n",
              "Enjoy the best DIY superhero party ideas, recipes, décor, games and more to make planning a party easy-peasy. \n",
              "Planning a themed party can be a lot of fun. And with so many popular Marvel, Avengers and DC movies being released\n",
              "in recent years, it's no wonder that superhero parties are becoming increasingly popular.\n",
              "\n",
              "[900+ Superhero Party Ideas in 2025 - Pinterest](https://www.pinterest.com/catchmyparty/superhero-party-ideas/)\n",
              "Mar 13, 2025 - Superhero party ideas for birthdays -- Superhero cakes, decorations, party foods and favors. See \n",
              "more party ideas at CatchMyParty.com. See more ideas about superhero party, superhero birthday, superhero birthday \n",
              "party.\n",
              "\n",
              "Out: None\n"
            ]
          },
          "metadata": {},
          "output_type": "display_data"
        },
        {
          "data": {
            "text/html": [
              "<pre style=\"white-space:pre;overflow-x:auto;line-height:normal;font-family:Menlo,'DejaVu Sans Mono',consolas,'Courier New',monospace\"><span style=\"color: #7f7f7f; text-decoration-color: #7f7f7f\">[Step 1: Duration 6.84 seconds| Input tokens: 2,250 | Output tokens: 89]</span>\n",
              "</pre>\n"
            ],
            "text/plain": [
              "\u001b[2m[Step 1: Duration 6.84 seconds| Input tokens: 2,250 | Output tokens: 89]\u001b[0m\n"
            ]
          },
          "metadata": {},
          "output_type": "display_data"
        },
        {
          "data": {
            "text/html": [
              "<pre style=\"white-space:pre;overflow-x:auto;line-height:normal;font-family:Menlo,'DejaVu Sans Mono',consolas,'Courier New',monospace\"><span style=\"color: #d4b702; text-decoration-color: #d4b702\">━━━━━━━━━━━━━━━━━━━━━━━━━━━━━━━━━━━━━━━━━━━━━━━━━━━━━ </span><span style=\"font-weight: bold\">Step </span><span style=\"color: #008080; text-decoration-color: #008080; font-weight: bold\">2</span><span style=\"color: #d4b702; text-decoration-color: #d4b702\"> ━━━━━━━━━━━━━━━━━━━━━━━━━━━━━━━━━━━━━━━━━━━━━━━━━━━━━━</span>\n",
              "</pre>\n"
            ],
            "text/plain": [
              "\u001b[38;2;212;183;2m━━━━━━━━━━━━━━━━━━━━━━━━━━━━━━━━━━━━━━━━━━━━━━━━━━━━━ \u001b[0m\u001b[1mStep \u001b[0m\u001b[1;36m2\u001b[0m\u001b[38;2;212;183;2m ━━━━━━━━━━━━━━━━━━━━━━━━━━━━━━━━━━━━━━━━━━━━━━━━━━━━━━\u001b[0m\n"
            ]
          },
          "metadata": {},
          "output_type": "display_data"
        },
        {
          "data": {
            "text/html": [
              "<pre style=\"white-space:pre;overflow-x:auto;line-height:normal;font-family:Menlo,'DejaVu Sans Mono',consolas,'Courier New',monospace\"> ─ <span style=\"font-weight: bold\">Executing parsed code:</span> ──────────────────────────────────────────────────────────────────────────────────────── \n",
              "  <span style=\"color: #f8f8f2; text-decoration-color: #f8f8f2; background-color: #272822\">final_answer(</span><span style=\"color: #e6db74; text-decoration-color: #e6db74; background-color: #272822\">\"\"\"Luxury Superhero Party Ideas:</span><span style=\"background-color: #272822\">                                                                  </span>  \n",
              "  <span style=\"background-color: #272822\">                                                                                                               </span>  \n",
              "  <span style=\"color: #e6db74; text-decoration-color: #e6db74; background-color: #272822\">Decorations:</span><span style=\"background-color: #272822\">                                                                                                   </span>  \n",
              "  <span style=\"color: #e6db74; text-decoration-color: #e6db74; background-color: #272822\">*   **Cityscape Backdrop:** Create a stunning backdrop of a famous superhero city like Metropolis or Gotham, </span><span style=\"background-color: #272822\">  </span>  \n",
              "  <span style=\"color: #e6db74; text-decoration-color: #e6db74; background-color: #272822\">using high-quality materials and lighting effects.</span><span style=\"background-color: #272822\">                                                             </span>  \n",
              "  <span style=\"color: #e6db74; text-decoration-color: #e6db74; background-color: #272822\">*   **Themed Lighting:** Use colored spotlights, projections, and custom-designed gobos to create a dynamic and</span>  \n",
              "  <span style=\"color: #e6db74; text-decoration-color: #e6db74; background-color: #272822\">immersive atmosphere.</span><span style=\"background-color: #272822\">                                                                                          </span>  \n",
              "  <span style=\"color: #e6db74; text-decoration-color: #e6db74; background-color: #272822\">*   **Interactive Props:** Incorporate interactive elements like a \"strength test\" machine, a \"scan for </span><span style=\"background-color: #272822\">       </span>  \n",
              "  <span style=\"color: #e6db74; text-decoration-color: #e6db74; background-color: #272822\">superpowers\" station, or a photo booth with high-end superhero costumes and props.</span><span style=\"background-color: #272822\">                             </span>  \n",
              "  <span style=\"color: #e6db74; text-decoration-color: #e6db74; background-color: #272822\">*   **Elegant Centerpieces:** Instead of typical balloons, use crystal vases filled with superhero-themed </span><span style=\"background-color: #272822\">     </span>  \n",
              "  <span style=\"color: #e6db74; text-decoration-color: #e6db74; background-color: #272822\">floral arrangements or miniature cityscapes.</span><span style=\"background-color: #272822\">                                                                   </span>  \n",
              "  <span style=\"color: #e6db74; text-decoration-color: #e6db74; background-color: #272822\">*   **Personalized Banners:** Create custom banners with the guest of honor's name incorporated into superhero </span>  \n",
              "  <span style=\"color: #e6db74; text-decoration-color: #e6db74; background-color: #272822\">logos or comic book panels.</span><span style=\"background-color: #272822\">                                                                                    </span>  \n",
              "  <span style=\"background-color: #272822\">                                                                                                               </span>  \n",
              "  <span style=\"color: #e6db74; text-decoration-color: #e6db74; background-color: #272822\">Entertainment:</span><span style=\"background-color: #272822\">                                                                                                 </span>  \n",
              "  <span style=\"color: #e6db74; text-decoration-color: #e6db74; background-color: #272822\">*   **Stunt Performers:** Hire professional stunt performers to showcase superheroic feats of strength and </span><span style=\"background-color: #272822\">    </span>  \n",
              "  <span style=\"color: #e6db74; text-decoration-color: #e6db74; background-color: #272822\">agility.</span><span style=\"background-color: #272822\">                                                                                                       </span>  \n",
              "  <span style=\"color: #e6db74; text-decoration-color: #e6db74; background-color: #272822\">*   **Custom Superhero Show:** Create a personalized stage show featuring actors portraying popular superheroes</span>  \n",
              "  <span style=\"color: #e6db74; text-decoration-color: #e6db74; background-color: #272822\">in an original storyline.</span><span style=\"background-color: #272822\">                                                                                      </span>  \n",
              "  <span style=\"color: #e6db74; text-decoration-color: #e6db74; background-color: #272822\">*   **Interactive Simulations:** Set up virtual reality or augmented reality experiences that allow guests to </span><span style=\"background-color: #272822\"> </span>  \n",
              "  <span style=\"color: #e6db74; text-decoration-color: #e6db74; background-color: #272822\">step into the shoes of their favorite superheroes.</span><span style=\"background-color: #272822\">                                                             </span>  \n",
              "  <span style=\"color: #e6db74; text-decoration-color: #e6db74; background-color: #272822\">*   **Live Music:** Hire a jazz band or orchestra to perform superhero-themed music or create a custom </span><span style=\"background-color: #272822\">        </span>  \n",
              "  <span style=\"color: #e6db74; text-decoration-color: #e6db74; background-color: #272822\">soundtrack for the event.</span><span style=\"background-color: #272822\">                                                                                      </span>  \n",
              "  <span style=\"color: #e6db74; text-decoration-color: #e6db74; background-color: #272822\">*   **Casino Games:** Offer casino games with superhero-themed prizes or charity tie-ins.</span><span style=\"background-color: #272822\">                      </span>  \n",
              "  <span style=\"background-color: #272822\">                                                                                                               </span>  \n",
              "  <span style=\"color: #e6db74; text-decoration-color: #e6db74; background-color: #272822\">Catering:</span><span style=\"background-color: #272822\">                                                                                                      </span>  \n",
              "  <span style=\"color: #e6db74; text-decoration-color: #e6db74; background-color: #272822\">*   **Gourmet Food Stations:** Set up food stations with gourmet versions of classic superhero foods, such as </span><span style=\"background-color: #272822\"> </span>  \n",
              "  <span style=\"color: #e6db74; text-decoration-color: #e6db74; background-color: #272822\">\"Kryptonite\" green smoothies or \"Stark Tower\" skewers.</span><span style=\"background-color: #272822\">                                                         </span>  \n",
              "  <span style=\"color: #e6db74; text-decoration-color: #e6db74; background-color: #272822\">*   **Themed Cocktails:** Create custom cocktails with superhero-inspired names and ingredients. Hire a </span><span style=\"background-color: #272822\">       </span>  \n",
              "  <span style=\"color: #e6db74; text-decoration-color: #e6db74; background-color: #272822\">professional mixologist to craft unique and visually appealing drinks.</span><span style=\"background-color: #272822\">                                         </span>  \n",
              "  <span style=\"color: #e6db74; text-decoration-color: #e6db74; background-color: #272822\">*   **Custom Desserts:** Offer custom-designed desserts, such as superhero-themed cupcakes, macarons, or a </span><span style=\"background-color: #272822\">    </span>  \n",
              "  <span style=\"color: #e6db74; text-decoration-color: #e6db74; background-color: #272822\">multi-tiered cake featuring iconic characters.</span><span style=\"background-color: #272822\">                                                                 </span>  \n",
              "  <span style=\"color: #e6db74; text-decoration-color: #e6db74; background-color: #272822\">*   **Professional Catering Service:** Hire a high-end catering service to provide impeccable service and </span><span style=\"background-color: #272822\">     </span>  \n",
              "  <span style=\"color: #e6db74; text-decoration-color: #e6db74; background-color: #272822\">ensure that all dietary needs and preferences are met.</span><span style=\"background-color: #272822\">                                                         </span>  \n",
              "  <span style=\"color: #e6db74; text-decoration-color: #e6db74; background-color: #272822\">*   **Champagne Tower:** Have a champagne tower with superhero themed color schemes.</span><span style=\"background-color: #272822\">                           </span>  \n",
              "  <span style=\"color: #e6db74; text-decoration-color: #e6db74; background-color: #272822\">\"\"\"</span><span style=\"color: #f8f8f2; text-decoration-color: #f8f8f2; background-color: #272822\">)</span><span style=\"background-color: #272822\">                                                                                                           </span>  \n",
              " ───────────────────────────────────────────────────────────────────────────────────────────────────────────────── \n",
              "</pre>\n"
            ],
            "text/plain": [
              " ─ \u001b[1mExecuting parsed code:\u001b[0m ──────────────────────────────────────────────────────────────────────────────────────── \n",
              "  \u001b[38;2;248;248;242;48;2;39;40;34mfinal_answer\u001b[0m\u001b[38;2;248;248;242;48;2;39;40;34m(\u001b[0m\u001b[38;2;230;219;116;48;2;39;40;34m\"\"\"\u001b[0m\u001b[38;2;230;219;116;48;2;39;40;34mLuxury Superhero Party Ideas:\u001b[0m\u001b[48;2;39;40;34m                                                                  \u001b[0m  \n",
              "  \u001b[48;2;39;40;34m                                                                                                               \u001b[0m  \n",
              "  \u001b[38;2;230;219;116;48;2;39;40;34mDecorations:\u001b[0m\u001b[48;2;39;40;34m                                                                                                   \u001b[0m  \n",
              "  \u001b[38;2;230;219;116;48;2;39;40;34m*   **Cityscape Backdrop:** Create a stunning backdrop of a famous superhero city like Metropolis or Gotham, \u001b[0m\u001b[48;2;39;40;34m  \u001b[0m  \n",
              "  \u001b[38;2;230;219;116;48;2;39;40;34musing high-quality materials and lighting effects.\u001b[0m\u001b[48;2;39;40;34m                                                             \u001b[0m  \n",
              "  \u001b[38;2;230;219;116;48;2;39;40;34m*   **Themed Lighting:** Use colored spotlights, projections, and custom-designed gobos to create a dynamic and\u001b[0m  \n",
              "  \u001b[38;2;230;219;116;48;2;39;40;34mimmersive atmosphere.\u001b[0m\u001b[48;2;39;40;34m                                                                                          \u001b[0m  \n",
              "  \u001b[38;2;230;219;116;48;2;39;40;34m*   **Interactive Props:** Incorporate interactive elements like a \u001b[0m\u001b[38;2;230;219;116;48;2;39;40;34m\"\u001b[0m\u001b[38;2;230;219;116;48;2;39;40;34mstrength test\u001b[0m\u001b[38;2;230;219;116;48;2;39;40;34m\"\u001b[0m\u001b[38;2;230;219;116;48;2;39;40;34m machine, a \u001b[0m\u001b[38;2;230;219;116;48;2;39;40;34m\"\u001b[0m\u001b[38;2;230;219;116;48;2;39;40;34mscan for \u001b[0m\u001b[48;2;39;40;34m       \u001b[0m  \n",
              "  \u001b[38;2;230;219;116;48;2;39;40;34msuperpowers\u001b[0m\u001b[38;2;230;219;116;48;2;39;40;34m\"\u001b[0m\u001b[38;2;230;219;116;48;2;39;40;34m station, or a photo booth with high-end superhero costumes and props.\u001b[0m\u001b[48;2;39;40;34m                             \u001b[0m  \n",
              "  \u001b[38;2;230;219;116;48;2;39;40;34m*   **Elegant Centerpieces:** Instead of typical balloons, use crystal vases filled with superhero-themed \u001b[0m\u001b[48;2;39;40;34m     \u001b[0m  \n",
              "  \u001b[38;2;230;219;116;48;2;39;40;34mfloral arrangements or miniature cityscapes.\u001b[0m\u001b[48;2;39;40;34m                                                                   \u001b[0m  \n",
              "  \u001b[38;2;230;219;116;48;2;39;40;34m*   **Personalized Banners:** Create custom banners with the guest of honor\u001b[0m\u001b[38;2;230;219;116;48;2;39;40;34m'\u001b[0m\u001b[38;2;230;219;116;48;2;39;40;34ms name incorporated into superhero \u001b[0m  \n",
              "  \u001b[38;2;230;219;116;48;2;39;40;34mlogos or comic book panels.\u001b[0m\u001b[48;2;39;40;34m                                                                                    \u001b[0m  \n",
              "  \u001b[48;2;39;40;34m                                                                                                               \u001b[0m  \n",
              "  \u001b[38;2;230;219;116;48;2;39;40;34mEntertainment:\u001b[0m\u001b[48;2;39;40;34m                                                                                                 \u001b[0m  \n",
              "  \u001b[38;2;230;219;116;48;2;39;40;34m*   **Stunt Performers:** Hire professional stunt performers to showcase superheroic feats of strength and \u001b[0m\u001b[48;2;39;40;34m    \u001b[0m  \n",
              "  \u001b[38;2;230;219;116;48;2;39;40;34magility.\u001b[0m\u001b[48;2;39;40;34m                                                                                                       \u001b[0m  \n",
              "  \u001b[38;2;230;219;116;48;2;39;40;34m*   **Custom Superhero Show:** Create a personalized stage show featuring actors portraying popular superheroes\u001b[0m  \n",
              "  \u001b[38;2;230;219;116;48;2;39;40;34min an original storyline.\u001b[0m\u001b[48;2;39;40;34m                                                                                      \u001b[0m  \n",
              "  \u001b[38;2;230;219;116;48;2;39;40;34m*   **Interactive Simulations:** Set up virtual reality or augmented reality experiences that allow guests to \u001b[0m\u001b[48;2;39;40;34m \u001b[0m  \n",
              "  \u001b[38;2;230;219;116;48;2;39;40;34mstep into the shoes of their favorite superheroes.\u001b[0m\u001b[48;2;39;40;34m                                                             \u001b[0m  \n",
              "  \u001b[38;2;230;219;116;48;2;39;40;34m*   **Live Music:** Hire a jazz band or orchestra to perform superhero-themed music or create a custom \u001b[0m\u001b[48;2;39;40;34m        \u001b[0m  \n",
              "  \u001b[38;2;230;219;116;48;2;39;40;34msoundtrack for the event.\u001b[0m\u001b[48;2;39;40;34m                                                                                      \u001b[0m  \n",
              "  \u001b[38;2;230;219;116;48;2;39;40;34m*   **Casino Games:** Offer casino games with superhero-themed prizes or charity tie-ins.\u001b[0m\u001b[48;2;39;40;34m                      \u001b[0m  \n",
              "  \u001b[48;2;39;40;34m                                                                                                               \u001b[0m  \n",
              "  \u001b[38;2;230;219;116;48;2;39;40;34mCatering:\u001b[0m\u001b[48;2;39;40;34m                                                                                                      \u001b[0m  \n",
              "  \u001b[38;2;230;219;116;48;2;39;40;34m*   **Gourmet Food Stations:** Set up food stations with gourmet versions of classic superhero foods, such as \u001b[0m\u001b[48;2;39;40;34m \u001b[0m  \n",
              "  \u001b[38;2;230;219;116;48;2;39;40;34m\"\u001b[0m\u001b[38;2;230;219;116;48;2;39;40;34mKryptonite\u001b[0m\u001b[38;2;230;219;116;48;2;39;40;34m\"\u001b[0m\u001b[38;2;230;219;116;48;2;39;40;34m green smoothies or \u001b[0m\u001b[38;2;230;219;116;48;2;39;40;34m\"\u001b[0m\u001b[38;2;230;219;116;48;2;39;40;34mStark Tower\u001b[0m\u001b[38;2;230;219;116;48;2;39;40;34m\"\u001b[0m\u001b[38;2;230;219;116;48;2;39;40;34m skewers.\u001b[0m\u001b[48;2;39;40;34m                                                         \u001b[0m  \n",
              "  \u001b[38;2;230;219;116;48;2;39;40;34m*   **Themed Cocktails:** Create custom cocktails with superhero-inspired names and ingredients. Hire a \u001b[0m\u001b[48;2;39;40;34m       \u001b[0m  \n",
              "  \u001b[38;2;230;219;116;48;2;39;40;34mprofessional mixologist to craft unique and visually appealing drinks.\u001b[0m\u001b[48;2;39;40;34m                                         \u001b[0m  \n",
              "  \u001b[38;2;230;219;116;48;2;39;40;34m*   **Custom Desserts:** Offer custom-designed desserts, such as superhero-themed cupcakes, macarons, or a \u001b[0m\u001b[48;2;39;40;34m    \u001b[0m  \n",
              "  \u001b[38;2;230;219;116;48;2;39;40;34mmulti-tiered cake featuring iconic characters.\u001b[0m\u001b[48;2;39;40;34m                                                                 \u001b[0m  \n",
              "  \u001b[38;2;230;219;116;48;2;39;40;34m*   **Professional Catering Service:** Hire a high-end catering service to provide impeccable service and \u001b[0m\u001b[48;2;39;40;34m     \u001b[0m  \n",
              "  \u001b[38;2;230;219;116;48;2;39;40;34mensure that all dietary needs and preferences are met.\u001b[0m\u001b[48;2;39;40;34m                                                         \u001b[0m  \n",
              "  \u001b[38;2;230;219;116;48;2;39;40;34m*   **Champagne Tower:** Have a champagne tower with superhero themed color schemes.\u001b[0m\u001b[48;2;39;40;34m                           \u001b[0m  \n",
              "  \u001b[38;2;230;219;116;48;2;39;40;34m\"\"\"\u001b[0m\u001b[38;2;248;248;242;48;2;39;40;34m)\u001b[0m\u001b[48;2;39;40;34m                                                                                                           \u001b[0m  \n",
              " ───────────────────────────────────────────────────────────────────────────────────────────────────────────────── \n"
            ]
          },
          "metadata": {},
          "output_type": "display_data"
        },
        {
          "name": "stderr",
          "output_type": "stream",
          "text": [
            "\u001b[92m13:28:03 - LiteLLM:ERROR\u001b[0m: litellm_logging.py:3525 - Error creating standard logging object - __annotations__\n",
            "Traceback (most recent call last):\n",
            "  File \"c:\\Learning\\Huggingface-AI-Agent-Course\\.venv\\Lib\\site-packages\\litellm\\litellm_core_utils\\litellm_logging.py\", line 3507, in get_standard_logging_object_payload\n",
            "    model_parameters=ModelParamHelper.get_standard_logging_model_parameters(\n",
            "                     ^^^^^^^^^^^^^^^^^^^^^^^^^^^^^^^^^^^^^^^^^^^^^^^^^^^^^^^\n",
            "  File \"c:\\Learning\\Huggingface-AI-Agent-Course\\.venv\\Lib\\site-packages\\litellm\\litellm_core_utils\\model_param_helper.py\", line 28, in get_standard_logging_model_parameters\n",
            "    ModelParamHelper._get_relevant_args_to_use_for_logging()\n",
            "  File \"c:\\Learning\\Huggingface-AI-Agent-Course\\.venv\\Lib\\site-packages\\litellm\\litellm_core_utils\\model_param_helper.py\", line 45, in _get_relevant_args_to_use_for_logging\n",
            "    all_openai_llm_api_params = ModelParamHelper._get_all_llm_api_params()\n",
            "                                ^^^^^^^^^^^^^^^^^^^^^^^^^^^^^^^^^^^^^^^^^^\n",
            "  File \"c:\\Learning\\Huggingface-AI-Agent-Course\\.venv\\Lib\\site-packages\\litellm\\litellm_core_utils\\model_param_helper.py\", line 65, in _get_all_llm_api_params\n",
            "    ModelParamHelper._get_litellm_supported_transcription_kwargs()\n",
            "  File \"c:\\Learning\\Huggingface-AI-Agent-Course\\.venv\\Lib\\site-packages\\litellm\\litellm_core_utils\\model_param_helper.py\", line 126, in _get_litellm_supported_transcription_kwargs\n",
            "    return set(TranscriptionCreateParams.__annotations__.keys())\n",
            "               ^^^^^^^^^^^^^^^^^^^^^^^^^^^^^^^^^^^^^^^^^\n",
            "  File \"C:\\Python312\\Lib\\typing.py\", line 1213, in __getattr__\n",
            "    raise AttributeError(attr)\n",
            "AttributeError: __annotations__\n"
          ]
        },
        {
          "data": {
            "text/html": [
              "<pre style=\"white-space:pre;overflow-x:auto;line-height:normal;font-family:Menlo,'DejaVu Sans Mono',consolas,'Courier New',monospace\"><span style=\"color: #d4b702; text-decoration-color: #d4b702; font-weight: bold\">Out - Final answer: Luxury Superhero Party Ideas:</span>\n",
              "\n",
              "<span style=\"color: #d4b702; text-decoration-color: #d4b702; font-weight: bold\">Decorations:</span>\n",
              "<span style=\"color: #d4b702; text-decoration-color: #d4b702; font-weight: bold\">*   **Cityscape Backdrop:** Create a stunning backdrop of a famous superhero city like Metropolis or Gotham, using </span>\n",
              "<span style=\"color: #d4b702; text-decoration-color: #d4b702; font-weight: bold\">high-quality materials and lighting effects.</span>\n",
              "<span style=\"color: #d4b702; text-decoration-color: #d4b702; font-weight: bold\">*   **Themed Lighting:** Use colored spotlights, projections, and custom-designed gobos to create a dynamic and </span>\n",
              "<span style=\"color: #d4b702; text-decoration-color: #d4b702; font-weight: bold\">immersive atmosphere.</span>\n",
              "<span style=\"color: #d4b702; text-decoration-color: #d4b702; font-weight: bold\">*   **Interactive Props:** Incorporate interactive elements like a \"strength test\" machine, a \"scan for </span>\n",
              "<span style=\"color: #d4b702; text-decoration-color: #d4b702; font-weight: bold\">superpowers\" station, or a photo booth with high-end superhero costumes and props.</span>\n",
              "<span style=\"color: #d4b702; text-decoration-color: #d4b702; font-weight: bold\">*   **Elegant Centerpieces:** Instead of typical balloons, use crystal vases filled with superhero-themed floral </span>\n",
              "<span style=\"color: #d4b702; text-decoration-color: #d4b702; font-weight: bold\">arrangements or miniature cityscapes.</span>\n",
              "<span style=\"color: #d4b702; text-decoration-color: #d4b702; font-weight: bold\">*   **Personalized Banners:** Create custom banners with the guest of honor's name incorporated into superhero </span>\n",
              "<span style=\"color: #d4b702; text-decoration-color: #d4b702; font-weight: bold\">logos or comic book panels.</span>\n",
              "\n",
              "<span style=\"color: #d4b702; text-decoration-color: #d4b702; font-weight: bold\">Entertainment:</span>\n",
              "<span style=\"color: #d4b702; text-decoration-color: #d4b702; font-weight: bold\">*   **Stunt Performers:** Hire professional stunt performers to showcase superheroic feats of strength and agility.</span>\n",
              "<span style=\"color: #d4b702; text-decoration-color: #d4b702; font-weight: bold\">*   **Custom Superhero Show:** Create a personalized stage show featuring actors portraying popular superheroes in </span>\n",
              "<span style=\"color: #d4b702; text-decoration-color: #d4b702; font-weight: bold\">an original storyline.</span>\n",
              "<span style=\"color: #d4b702; text-decoration-color: #d4b702; font-weight: bold\">*   **Interactive Simulations:** Set up virtual reality or augmented reality experiences that allow guests to step </span>\n",
              "<span style=\"color: #d4b702; text-decoration-color: #d4b702; font-weight: bold\">into the shoes of their favorite superheroes.</span>\n",
              "<span style=\"color: #d4b702; text-decoration-color: #d4b702; font-weight: bold\">*   **Live Music:** Hire a jazz band or orchestra to perform superhero-themed music or create a custom soundtrack </span>\n",
              "<span style=\"color: #d4b702; text-decoration-color: #d4b702; font-weight: bold\">for the event.</span>\n",
              "<span style=\"color: #d4b702; text-decoration-color: #d4b702; font-weight: bold\">*   **Casino Games:** Offer casino games with superhero-themed prizes or charity tie-ins.</span>\n",
              "\n",
              "<span style=\"color: #d4b702; text-decoration-color: #d4b702; font-weight: bold\">Catering:</span>\n",
              "<span style=\"color: #d4b702; text-decoration-color: #d4b702; font-weight: bold\">*   **Gourmet Food Stations:** Set up food stations with gourmet versions of classic superhero foods, such as </span>\n",
              "<span style=\"color: #d4b702; text-decoration-color: #d4b702; font-weight: bold\">\"Kryptonite\" green smoothies or \"Stark Tower\" skewers.</span>\n",
              "<span style=\"color: #d4b702; text-decoration-color: #d4b702; font-weight: bold\">*   **Themed Cocktails:** Create custom cocktails with superhero-inspired names and ingredients. Hire a </span>\n",
              "<span style=\"color: #d4b702; text-decoration-color: #d4b702; font-weight: bold\">professional mixologist to craft unique and visually appealing drinks.</span>\n",
              "<span style=\"color: #d4b702; text-decoration-color: #d4b702; font-weight: bold\">*   **Custom Desserts:** Offer custom-designed desserts, such as superhero-themed cupcakes, macarons, or a </span>\n",
              "<span style=\"color: #d4b702; text-decoration-color: #d4b702; font-weight: bold\">multi-tiered cake featuring iconic characters.</span>\n",
              "<span style=\"color: #d4b702; text-decoration-color: #d4b702; font-weight: bold\">*   **Professional Catering Service:** Hire a high-end catering service to provide impeccable service and ensure </span>\n",
              "<span style=\"color: #d4b702; text-decoration-color: #d4b702; font-weight: bold\">that all dietary needs and preferences are met.</span>\n",
              "<span style=\"color: #d4b702; text-decoration-color: #d4b702; font-weight: bold\">*   **Champagne Tower:** Have a champagne tower with superhero themed color schemes.</span>\n",
              "\n",
              "</pre>\n"
            ],
            "text/plain": [
              "\u001b[1;38;2;212;183;2mOut - Final answer: Luxury Superhero Party Ideas:\u001b[0m\n",
              "\n",
              "\u001b[1;38;2;212;183;2mDecorations:\u001b[0m\n",
              "\u001b[1;38;2;212;183;2m*   **Cityscape Backdrop:** Create a stunning backdrop of a famous superhero city like Metropolis or Gotham, using \u001b[0m\n",
              "\u001b[1;38;2;212;183;2mhigh-quality materials and lighting effects.\u001b[0m\n",
              "\u001b[1;38;2;212;183;2m*   **Themed Lighting:** Use colored spotlights, projections, and custom-designed gobos to create a dynamic and \u001b[0m\n",
              "\u001b[1;38;2;212;183;2mimmersive atmosphere.\u001b[0m\n",
              "\u001b[1;38;2;212;183;2m*   **Interactive Props:** Incorporate interactive elements like a \"strength test\" machine, a \"scan for \u001b[0m\n",
              "\u001b[1;38;2;212;183;2msuperpowers\" station, or a photo booth with high-end superhero costumes and props.\u001b[0m\n",
              "\u001b[1;38;2;212;183;2m*   **Elegant Centerpieces:** Instead of typical balloons, use crystal vases filled with superhero-themed floral \u001b[0m\n",
              "\u001b[1;38;2;212;183;2marrangements or miniature cityscapes.\u001b[0m\n",
              "\u001b[1;38;2;212;183;2m*   **Personalized Banners:** Create custom banners with the guest of honor's name incorporated into superhero \u001b[0m\n",
              "\u001b[1;38;2;212;183;2mlogos or comic book panels.\u001b[0m\n",
              "\n",
              "\u001b[1;38;2;212;183;2mEntertainment:\u001b[0m\n",
              "\u001b[1;38;2;212;183;2m*   **Stunt Performers:** Hire professional stunt performers to showcase superheroic feats of strength and agility.\u001b[0m\n",
              "\u001b[1;38;2;212;183;2m*   **Custom Superhero Show:** Create a personalized stage show featuring actors portraying popular superheroes in \u001b[0m\n",
              "\u001b[1;38;2;212;183;2man original storyline.\u001b[0m\n",
              "\u001b[1;38;2;212;183;2m*   **Interactive Simulations:** Set up virtual reality or augmented reality experiences that allow guests to step \u001b[0m\n",
              "\u001b[1;38;2;212;183;2minto the shoes of their favorite superheroes.\u001b[0m\n",
              "\u001b[1;38;2;212;183;2m*   **Live Music:** Hire a jazz band or orchestra to perform superhero-themed music or create a custom soundtrack \u001b[0m\n",
              "\u001b[1;38;2;212;183;2mfor the event.\u001b[0m\n",
              "\u001b[1;38;2;212;183;2m*   **Casino Games:** Offer casino games with superhero-themed prizes or charity tie-ins.\u001b[0m\n",
              "\n",
              "\u001b[1;38;2;212;183;2mCatering:\u001b[0m\n",
              "\u001b[1;38;2;212;183;2m*   **Gourmet Food Stations:** Set up food stations with gourmet versions of classic superhero foods, such as \u001b[0m\n",
              "\u001b[1;38;2;212;183;2m\"Kryptonite\" green smoothies or \"Stark Tower\" skewers.\u001b[0m\n",
              "\u001b[1;38;2;212;183;2m*   **Themed Cocktails:** Create custom cocktails with superhero-inspired names and ingredients. Hire a \u001b[0m\n",
              "\u001b[1;38;2;212;183;2mprofessional mixologist to craft unique and visually appealing drinks.\u001b[0m\n",
              "\u001b[1;38;2;212;183;2m*   **Custom Desserts:** Offer custom-designed desserts, such as superhero-themed cupcakes, macarons, or a \u001b[0m\n",
              "\u001b[1;38;2;212;183;2mmulti-tiered cake featuring iconic characters.\u001b[0m\n",
              "\u001b[1;38;2;212;183;2m*   **Professional Catering Service:** Hire a high-end catering service to provide impeccable service and ensure \u001b[0m\n",
              "\u001b[1;38;2;212;183;2mthat all dietary needs and preferences are met.\u001b[0m\n",
              "\u001b[1;38;2;212;183;2m*   **Champagne Tower:** Have a champagne tower with superhero themed color schemes.\u001b[0m\n",
              "\n"
            ]
          },
          "metadata": {},
          "output_type": "display_data"
        },
        {
          "name": "stderr",
          "output_type": "stream",
          "text": [
            "\u001b[92m13:28:03 - LiteLLM:ERROR\u001b[0m: litellm_logging.py:3525 - Error creating standard logging object - __annotations__\n",
            "Traceback (most recent call last):\n",
            "  File \"c:\\Learning\\Huggingface-AI-Agent-Course\\.venv\\Lib\\site-packages\\litellm\\litellm_core_utils\\litellm_logging.py\", line 3507, in get_standard_logging_object_payload\n",
            "    model_parameters=ModelParamHelper.get_standard_logging_model_parameters(\n",
            "                     ^^^^^^^^^^^^^^^^^^^^^^^^^^^^^^^^^^^^^^^^^^^^^^^^^^^^^^^\n",
            "  File \"c:\\Learning\\Huggingface-AI-Agent-Course\\.venv\\Lib\\site-packages\\litellm\\litellm_core_utils\\model_param_helper.py\", line 28, in get_standard_logging_model_parameters\n",
            "    ModelParamHelper._get_relevant_args_to_use_for_logging()\n",
            "  File \"c:\\Learning\\Huggingface-AI-Agent-Course\\.venv\\Lib\\site-packages\\litellm\\litellm_core_utils\\model_param_helper.py\", line 45, in _get_relevant_args_to_use_for_logging\n",
            "    all_openai_llm_api_params = ModelParamHelper._get_all_llm_api_params()\n",
            "                                ^^^^^^^^^^^^^^^^^^^^^^^^^^^^^^^^^^^^^^^^^^\n",
            "  File \"c:\\Learning\\Huggingface-AI-Agent-Course\\.venv\\Lib\\site-packages\\litellm\\litellm_core_utils\\model_param_helper.py\", line 65, in _get_all_llm_api_params\n",
            "    ModelParamHelper._get_litellm_supported_transcription_kwargs()\n",
            "  File \"c:\\Learning\\Huggingface-AI-Agent-Course\\.venv\\Lib\\site-packages\\litellm\\litellm_core_utils\\model_param_helper.py\", line 126, in _get_litellm_supported_transcription_kwargs\n",
            "    return set(TranscriptionCreateParams.__annotations__.keys())\n",
            "               ^^^^^^^^^^^^^^^^^^^^^^^^^^^^^^^^^^^^^^^^^\n",
            "  File \"C:\\Python312\\Lib\\typing.py\", line 1213, in __getattr__\n",
            "    raise AttributeError(attr)\n",
            "AttributeError: __annotations__\n"
          ]
        },
        {
          "data": {
            "text/html": [
              "<pre style=\"white-space:pre;overflow-x:auto;line-height:normal;font-family:Menlo,'DejaVu Sans Mono',consolas,'Courier New',monospace\"><span style=\"color: #7f7f7f; text-decoration-color: #7f7f7f\">[Step 2: Duration 6.40 seconds| Input tokens: 5,809 | Output tokens: 742]</span>\n",
              "</pre>\n"
            ],
            "text/plain": [
              "\u001b[2m[Step 2: Duration 6.40 seconds| Input tokens: 5,809 | Output tokens: 742]\u001b[0m\n"
            ]
          },
          "metadata": {},
          "output_type": "display_data"
        },
        {
          "name": "stdout",
          "output_type": "stream",
          "text": [
            "Luxury Superhero Party Ideas:\n",
            "\n",
            "Decorations:\n",
            "*   **Cityscape Backdrop:** Create a stunning backdrop of a famous superhero city like Metropolis or Gotham, using high-quality materials and lighting effects.\n",
            "*   **Themed Lighting:** Use colored spotlights, projections, and custom-designed gobos to create a dynamic and immersive atmosphere.\n",
            "*   **Interactive Props:** Incorporate interactive elements like a \"strength test\" machine, a \"scan for superpowers\" station, or a photo booth with high-end superhero costumes and props.\n",
            "*   **Elegant Centerpieces:** Instead of typical balloons, use crystal vases filled with superhero-themed floral arrangements or miniature cityscapes.\n",
            "*   **Personalized Banners:** Create custom banners with the guest of honor's name incorporated into superhero logos or comic book panels.\n",
            "\n",
            "Entertainment:\n",
            "*   **Stunt Performers:** Hire professional stunt performers to showcase superheroic feats of strength and agility.\n",
            "*   **Custom Superhero Show:** Create a personalized stage show featuring actors portraying popular superheroes in an original storyline.\n",
            "*   **Interactive Simulations:** Set up virtual reality or augmented reality experiences that allow guests to step into the shoes of their favorite superheroes.\n",
            "*   **Live Music:** Hire a jazz band or orchestra to perform superhero-themed music or create a custom soundtrack for the event.\n",
            "*   **Casino Games:** Offer casino games with superhero-themed prizes or charity tie-ins.\n",
            "\n",
            "Catering:\n",
            "*   **Gourmet Food Stations:** Set up food stations with gourmet versions of classic superhero foods, such as \"Kryptonite\" green smoothies or \"Stark Tower\" skewers.\n",
            "*   **Themed Cocktails:** Create custom cocktails with superhero-inspired names and ingredients. Hire a professional mixologist to craft unique and visually appealing drinks.\n",
            "*   **Custom Desserts:** Offer custom-designed desserts, such as superhero-themed cupcakes, macarons, or a multi-tiered cake featuring iconic characters.\n",
            "*   **Professional Catering Service:** Hire a high-end catering service to provide impeccable service and ensure that all dietary needs and preferences are met.\n",
            "*   **Champagne Tower:** Have a champagne tower with superhero themed color schemes.\n",
            "\n"
          ]
        }
      ],
      "source": [
        "from smolagents import CodeAgent, DuckDuckGoSearchTool, HfApiModel\n",
        "\n",
        "# Initialize the search tool\n",
        "search_tool = DuckDuckGoSearchTool()\n",
        "\n",
        "\n",
        "agent = CodeAgent(\n",
        "    model = llm_model,\n",
        "    tools=[search_tool]\n",
        ")\n",
        "\n",
        "# Example usage\n",
        "response = agent.run(\n",
        "    \"Search for luxury superhero-themed party ideas, including decorations, entertainment, and catering.\"\n",
        ")\n",
        "print(response)"
      ]
    },
    {
      "cell_type": "markdown",
      "metadata": {
        "id": "iHfIWdVWad77"
      },
      "source": [
        "The agent follows this process:\n",
        "\n",
        "1. **Analyzes the Request:** Alfred’s agent identifies the key elements of the query—luxury superhero-themed party planning, with focus on decor, entertainment, and catering.\n",
        "2. **Performs Retrieval:**  The agent leverages DuckDuckGo to search for the most relevant and up-to-date information, ensuring it aligns with Alfred’s refined preferences for a luxurious event.\n",
        "3. **Synthesizes Information:** After gathering the results, the agent processes them into a cohesive, actionable plan for Alfred, covering all aspects of the party.\n",
        "4. **Stores for Future Reference:** The agent stores the retrieved information for easy access when planning future events, optimizing efficiency in subsequent tasks."
      ]
    },
    {
      "cell_type": "markdown",
      "metadata": {
        "id": "bJWn_FDN47u3"
      },
      "source": [
        "## Custom Knowledge Base Tool\n",
        "\n",
        "For specialized tasks, a custom knowledge base can be invaluable. Let's create a tool that queries a vector database of technical documentation or specialized knowledge. Using semantic search, the agent can find the most relevant information for Alfred's needs.\n",
        "\n",
        "This approach combines predefined knowledge with semantic search to provide context-aware solutions for event planning. With specialized knowledge access, Alfred can perfect every detail of the party.\n",
        "\n",
        "Install the dependecies first and run!"
      ]
    },
    {
      "cell_type": "code",
      "execution_count": 3,
      "metadata": {
        "id": "OcKM-MSR5Cw-"
      },
      "outputs": [
        {
          "name": "stdout",
          "output_type": "stream",
          "text": [
            "Collecting langchain-community\n",
            "  Downloading langchain_community-0.3.20-py3-none-any.whl.metadata (2.4 kB)\n",
            "Collecting rank_bm25\n",
            "  Downloading rank_bm25-0.2.2-py3-none-any.whl.metadata (3.2 kB)\n",
            "Collecting langchain-core<1.0.0,>=0.3.45 (from langchain-community)\n",
            "  Downloading langchain_core-0.3.47-py3-none-any.whl.metadata (5.9 kB)\n",
            "Collecting langchain<1.0.0,>=0.3.21 (from langchain-community)\n",
            "  Downloading langchain-0.3.21-py3-none-any.whl.metadata (7.8 kB)\n",
            "Requirement already satisfied: SQLAlchemy<3,>=1.4 in c:\\learning\\huggingface-ai-agent-course\\.venv\\lib\\site-packages (from langchain-community) (2.0.39)\n",
            "Requirement already satisfied: requests<3,>=2 in c:\\learning\\huggingface-ai-agent-course\\.venv\\lib\\site-packages (from langchain-community) (2.32.3)\n",
            "Requirement already satisfied: PyYAML>=5.3 in c:\\learning\\huggingface-ai-agent-course\\.venv\\lib\\site-packages (from langchain-community) (6.0.2)\n",
            "Requirement already satisfied: aiohttp<4.0.0,>=3.8.3 in c:\\learning\\huggingface-ai-agent-course\\.venv\\lib\\site-packages (from langchain-community) (3.11.14)\n",
            "Requirement already satisfied: tenacity!=8.4.0,<10,>=8.1.0 in c:\\learning\\huggingface-ai-agent-course\\.venv\\lib\\site-packages (from langchain-community) (9.0.0)\n",
            "Requirement already satisfied: dataclasses-json<0.7,>=0.5.7 in c:\\learning\\huggingface-ai-agent-course\\.venv\\lib\\site-packages (from langchain-community) (0.6.7)\n",
            "Collecting pydantic-settings<3.0.0,>=2.4.0 (from langchain-community)\n",
            "  Using cached pydantic_settings-2.8.1-py3-none-any.whl.metadata (3.5 kB)\n",
            "Collecting langsmith<0.4,>=0.1.125 (from langchain-community)\n",
            "  Downloading langsmith-0.3.18-py3-none-any.whl.metadata (15 kB)\n",
            "Collecting httpx-sse<1.0.0,>=0.4.0 (from langchain-community)\n",
            "  Downloading httpx_sse-0.4.0-py3-none-any.whl.metadata (9.0 kB)\n",
            "Requirement already satisfied: numpy<3,>=1.26.2 in c:\\learning\\huggingface-ai-agent-course\\.venv\\lib\\site-packages (from langchain-community) (2.2.4)\n",
            "Requirement already satisfied: aiohappyeyeballs>=2.3.0 in c:\\learning\\huggingface-ai-agent-course\\.venv\\lib\\site-packages (from aiohttp<4.0.0,>=3.8.3->langchain-community) (2.6.1)\n",
            "Requirement already satisfied: aiosignal>=1.1.2 in c:\\learning\\huggingface-ai-agent-course\\.venv\\lib\\site-packages (from aiohttp<4.0.0,>=3.8.3->langchain-community) (1.3.2)\n",
            "Requirement already satisfied: attrs>=17.3.0 in c:\\learning\\huggingface-ai-agent-course\\.venv\\lib\\site-packages (from aiohttp<4.0.0,>=3.8.3->langchain-community) (25.3.0)\n",
            "Requirement already satisfied: frozenlist>=1.1.1 in c:\\learning\\huggingface-ai-agent-course\\.venv\\lib\\site-packages (from aiohttp<4.0.0,>=3.8.3->langchain-community) (1.5.0)\n",
            "Requirement already satisfied: multidict<7.0,>=4.5 in c:\\learning\\huggingface-ai-agent-course\\.venv\\lib\\site-packages (from aiohttp<4.0.0,>=3.8.3->langchain-community) (6.2.0)\n",
            "Requirement already satisfied: propcache>=0.2.0 in c:\\learning\\huggingface-ai-agent-course\\.venv\\lib\\site-packages (from aiohttp<4.0.0,>=3.8.3->langchain-community) (0.3.0)\n",
            "Requirement already satisfied: yarl<2.0,>=1.17.0 in c:\\learning\\huggingface-ai-agent-course\\.venv\\lib\\site-packages (from aiohttp<4.0.0,>=3.8.3->langchain-community) (1.18.3)\n",
            "Requirement already satisfied: marshmallow<4.0.0,>=3.18.0 in c:\\learning\\huggingface-ai-agent-course\\.venv\\lib\\site-packages (from dataclasses-json<0.7,>=0.5.7->langchain-community) (3.26.1)\n",
            "Requirement already satisfied: typing-inspect<1,>=0.4.0 in c:\\learning\\huggingface-ai-agent-course\\.venv\\lib\\site-packages (from dataclasses-json<0.7,>=0.5.7->langchain-community) (0.9.0)\n",
            "Collecting langchain-text-splitters<1.0.0,>=0.3.7 (from langchain<1.0.0,>=0.3.21->langchain-community)\n",
            "  Downloading langchain_text_splitters-0.3.7-py3-none-any.whl.metadata (1.9 kB)\n",
            "Requirement already satisfied: pydantic<3.0.0,>=2.7.4 in c:\\learning\\huggingface-ai-agent-course\\.venv\\lib\\site-packages (from langchain<1.0.0,>=0.3.21->langchain-community) (2.10.6)\n",
            "Collecting jsonpatch<2.0,>=1.33 (from langchain-core<1.0.0,>=0.3.45->langchain-community)\n",
            "  Downloading jsonpatch-1.33-py2.py3-none-any.whl.metadata (3.0 kB)\n",
            "Requirement already satisfied: packaging<25,>=23.2 in c:\\learning\\huggingface-ai-agent-course\\.venv\\lib\\site-packages (from langchain-core<1.0.0,>=0.3.45->langchain-community) (24.2)\n",
            "Requirement already satisfied: typing-extensions>=4.7 in c:\\learning\\huggingface-ai-agent-course\\.venv\\lib\\site-packages (from langchain-core<1.0.0,>=0.3.45->langchain-community) (4.12.2)\n",
            "Requirement already satisfied: httpx<1,>=0.23.0 in c:\\learning\\huggingface-ai-agent-course\\.venv\\lib\\site-packages (from langsmith<0.4,>=0.1.125->langchain-community) (0.28.1)\n",
            "Collecting orjson<4.0.0,>=3.9.14 (from langsmith<0.4,>=0.1.125->langchain-community)\n",
            "  Downloading orjson-3.10.15-cp312-cp312-win_amd64.whl.metadata (42 kB)\n",
            "Collecting requests-toolbelt<2.0.0,>=1.0.0 (from langsmith<0.4,>=0.1.125->langchain-community)\n",
            "  Downloading requests_toolbelt-1.0.0-py2.py3-none-any.whl.metadata (14 kB)\n",
            "Collecting zstandard<0.24.0,>=0.23.0 (from langsmith<0.4,>=0.1.125->langchain-community)\n",
            "  Downloading zstandard-0.23.0-cp312-cp312-win_amd64.whl.metadata (3.0 kB)\n",
            "Requirement already satisfied: python-dotenv>=0.21.0 in c:\\learning\\huggingface-ai-agent-course\\.venv\\lib\\site-packages (from pydantic-settings<3.0.0,>=2.4.0->langchain-community) (1.0.1)\n",
            "Requirement already satisfied: charset-normalizer<4,>=2 in c:\\learning\\huggingface-ai-agent-course\\.venv\\lib\\site-packages (from requests<3,>=2->langchain-community) (3.4.1)\n",
            "Requirement already satisfied: idna<4,>=2.5 in c:\\learning\\huggingface-ai-agent-course\\.venv\\lib\\site-packages (from requests<3,>=2->langchain-community) (3.10)\n",
            "Requirement already satisfied: urllib3<3,>=1.21.1 in c:\\learning\\huggingface-ai-agent-course\\.venv\\lib\\site-packages (from requests<3,>=2->langchain-community) (2.3.0)\n",
            "Requirement already satisfied: certifi>=2017.4.17 in c:\\learning\\huggingface-ai-agent-course\\.venv\\lib\\site-packages (from requests<3,>=2->langchain-community) (2025.1.31)\n",
            "Requirement already satisfied: greenlet!=0.4.17 in c:\\learning\\huggingface-ai-agent-course\\.venv\\lib\\site-packages (from SQLAlchemy<3,>=1.4->langchain-community) (3.1.1)\n",
            "Requirement already satisfied: anyio in c:\\learning\\huggingface-ai-agent-course\\.venv\\lib\\site-packages (from httpx<1,>=0.23.0->langsmith<0.4,>=0.1.125->langchain-community) (4.9.0)\n",
            "Requirement already satisfied: httpcore==1.* in c:\\learning\\huggingface-ai-agent-course\\.venv\\lib\\site-packages (from httpx<1,>=0.23.0->langsmith<0.4,>=0.1.125->langchain-community) (1.0.7)\n",
            "Requirement already satisfied: h11<0.15,>=0.13 in c:\\learning\\huggingface-ai-agent-course\\.venv\\lib\\site-packages (from httpcore==1.*->httpx<1,>=0.23.0->langsmith<0.4,>=0.1.125->langchain-community) (0.14.0)\n",
            "Collecting jsonpointer>=1.9 (from jsonpatch<2.0,>=1.33->langchain-core<1.0.0,>=0.3.45->langchain-community)\n",
            "  Downloading jsonpointer-3.0.0-py2.py3-none-any.whl.metadata (2.3 kB)\n",
            "Requirement already satisfied: annotated-types>=0.6.0 in c:\\learning\\huggingface-ai-agent-course\\.venv\\lib\\site-packages (from pydantic<3.0.0,>=2.7.4->langchain<1.0.0,>=0.3.21->langchain-community) (0.7.0)\n",
            "Requirement already satisfied: pydantic-core==2.27.2 in c:\\learning\\huggingface-ai-agent-course\\.venv\\lib\\site-packages (from pydantic<3.0.0,>=2.7.4->langchain<1.0.0,>=0.3.21->langchain-community) (2.27.2)\n",
            "Requirement already satisfied: mypy-extensions>=0.3.0 in c:\\learning\\huggingface-ai-agent-course\\.venv\\lib\\site-packages (from typing-inspect<1,>=0.4.0->dataclasses-json<0.7,>=0.5.7->langchain-community) (1.0.0)\n",
            "Requirement already satisfied: sniffio>=1.1 in c:\\learning\\huggingface-ai-agent-course\\.venv\\lib\\site-packages (from anyio->httpx<1,>=0.23.0->langsmith<0.4,>=0.1.125->langchain-community) (1.3.1)\n",
            "Downloading langchain_community-0.3.20-py3-none-any.whl (2.5 MB)\n",
            "   ---------------------------------------- 0.0/2.5 MB ? eta -:--:--\n",
            "   ---------------------------------------- 2.5/2.5 MB 36.5 MB/s eta 0:00:00\n",
            "Downloading rank_bm25-0.2.2-py3-none-any.whl (8.6 kB)\n",
            "Downloading httpx_sse-0.4.0-py3-none-any.whl (7.8 kB)\n",
            "Downloading langchain-0.3.21-py3-none-any.whl (1.0 MB)\n",
            "   ---------------------------------------- 0.0/1.0 MB ? eta -:--:--\n",
            "   ---------------------------------------- 1.0/1.0 MB 46.8 MB/s eta 0:00:00\n",
            "Downloading langchain_core-0.3.47-py3-none-any.whl (417 kB)\n",
            "Downloading langsmith-0.3.18-py3-none-any.whl (351 kB)\n",
            "Using cached pydantic_settings-2.8.1-py3-none-any.whl (30 kB)\n",
            "Downloading jsonpatch-1.33-py2.py3-none-any.whl (12 kB)\n",
            "Downloading langchain_text_splitters-0.3.7-py3-none-any.whl (32 kB)\n",
            "Downloading orjson-3.10.15-cp312-cp312-win_amd64.whl (133 kB)\n",
            "Downloading requests_toolbelt-1.0.0-py2.py3-none-any.whl (54 kB)\n",
            "Downloading zstandard-0.23.0-cp312-cp312-win_amd64.whl (495 kB)\n",
            "Downloading jsonpointer-3.0.0-py2.py3-none-any.whl (7.6 kB)\n",
            "Installing collected packages: zstandard, rank_bm25, orjson, jsonpointer, httpx-sse, requests-toolbelt, jsonpatch, pydantic-settings, langsmith, langchain-core, langchain-text-splitters, langchain, langchain-community\n",
            "Successfully installed httpx-sse-0.4.0 jsonpatch-1.33 jsonpointer-3.0.0 langchain-0.3.21 langchain-community-0.3.20 langchain-core-0.3.47 langchain-text-splitters-0.3.7 langsmith-0.3.18 orjson-3.10.15 pydantic-settings-2.8.1 rank_bm25-0.2.2 requests-toolbelt-1.0.0 zstandard-0.23.0\n"
          ]
        }
      ],
      "source": [
        "!pip install langchain-community rank_bm25"
      ]
    },
    {
      "cell_type": "code",
      "execution_count": 4,
      "metadata": {
        "colab": {
          "base_uri": "https://localhost:8080/",
          "height": 1000
        },
        "id": "MRNJkqyR43F-",
        "outputId": "a267884e-427c-484a-af58-9af3098cb9a1"
      },
      "outputs": [
        {
          "data": {
            "text/html": [
              "<pre style=\"white-space:pre;overflow-x:auto;line-height:normal;font-family:Menlo,'DejaVu Sans Mono',consolas,'Courier New',monospace\"><span style=\"color: #d4b702; text-decoration-color: #d4b702\">╭──────────────────────────────────────────────────── </span><span style=\"color: #d4b702; text-decoration-color: #d4b702; font-weight: bold\">New run</span><span style=\"color: #d4b702; text-decoration-color: #d4b702\"> ────────────────────────────────────────────────────╮</span>\n",
              "<span style=\"color: #d4b702; text-decoration-color: #d4b702\">│</span>                                                                                                                 <span style=\"color: #d4b702; text-decoration-color: #d4b702\">│</span>\n",
              "<span style=\"color: #d4b702; text-decoration-color: #d4b702\">│</span> <span style=\"font-weight: bold\">Find ideas for a luxury superhero-themed party, including entertainment, catering, and decoration options.</span>      <span style=\"color: #d4b702; text-decoration-color: #d4b702\">│</span>\n",
              "<span style=\"color: #d4b702; text-decoration-color: #d4b702\">│</span>                                                                                                                 <span style=\"color: #d4b702; text-decoration-color: #d4b702\">│</span>\n",
              "<span style=\"color: #d4b702; text-decoration-color: #d4b702\">╰─ LiteLLMModel - gemini/gemini-2.0-flash ────────────────────────────────────────────────────────────────────────╯</span>\n",
              "</pre>\n"
            ],
            "text/plain": [
              "\u001b[38;2;212;183;2m╭─\u001b[0m\u001b[38;2;212;183;2m───────────────────────────────────────────────────\u001b[0m\u001b[38;2;212;183;2m \u001b[0m\u001b[1;38;2;212;183;2mNew run\u001b[0m\u001b[38;2;212;183;2m \u001b[0m\u001b[38;2;212;183;2m───────────────────────────────────────────────────\u001b[0m\u001b[38;2;212;183;2m─╮\u001b[0m\n",
              "\u001b[38;2;212;183;2m│\u001b[0m                                                                                                                 \u001b[38;2;212;183;2m│\u001b[0m\n",
              "\u001b[38;2;212;183;2m│\u001b[0m \u001b[1mFind ideas for a luxury superhero-themed party, including entertainment, catering, and decoration options.\u001b[0m      \u001b[38;2;212;183;2m│\u001b[0m\n",
              "\u001b[38;2;212;183;2m│\u001b[0m                                                                                                                 \u001b[38;2;212;183;2m│\u001b[0m\n",
              "\u001b[38;2;212;183;2m╰─\u001b[0m\u001b[38;2;212;183;2m LiteLLMModel - gemini/gemini-2.0-flash \u001b[0m\u001b[38;2;212;183;2m───────────────────────────────────────────────────────────────────────\u001b[0m\u001b[38;2;212;183;2m─╯\u001b[0m\n"
            ]
          },
          "metadata": {},
          "output_type": "display_data"
        },
        {
          "data": {
            "text/html": [
              "<pre style=\"white-space:pre;overflow-x:auto;line-height:normal;font-family:Menlo,'DejaVu Sans Mono',consolas,'Courier New',monospace\"><span style=\"color: #d4b702; text-decoration-color: #d4b702\">━━━━━━━━━━━━━━━━━━━━━━━━━━━━━━━━━━━━━━━━━━━━━━━━━━━━━ </span><span style=\"font-weight: bold\">Step </span><span style=\"color: #008080; text-decoration-color: #008080; font-weight: bold\">1</span><span style=\"color: #d4b702; text-decoration-color: #d4b702\"> ━━━━━━━━━━━━━━━━━━━━━━━━━━━━━━━━━━━━━━━━━━━━━━━━━━━━━━</span>\n",
              "</pre>\n"
            ],
            "text/plain": [
              "\u001b[38;2;212;183;2m━━━━━━━━━━━━━━━━━━━━━━━━━━━━━━━━━━━━━━━━━━━━━━━━━━━━━ \u001b[0m\u001b[1mStep \u001b[0m\u001b[1;36m1\u001b[0m\u001b[38;2;212;183;2m ━━━━━━━━━━━━━━━━━━━━━━━━━━━━━━━━━━━━━━━━━━━━━━━━━━━━━━\u001b[0m\n"
            ]
          },
          "metadata": {},
          "output_type": "display_data"
        },
        {
          "name": "stderr",
          "output_type": "stream",
          "text": [
            "\u001b[92m13:30:55 - LiteLLM:ERROR\u001b[0m: litellm_logging.py:3525 - Error creating standard logging object - __annotations__\n",
            "Traceback (most recent call last):\n",
            "  File \"c:\\Learning\\Huggingface-AI-Agent-Course\\.venv\\Lib\\site-packages\\litellm\\litellm_core_utils\\litellm_logging.py\", line 3507, in get_standard_logging_object_payload\n",
            "    model_parameters=ModelParamHelper.get_standard_logging_model_parameters(\n",
            "                     ^^^^^^^^^^^^^^^^^^^^^^^^^^^^^^^^^^^^^^^^^^^^^^^^^^^^^^^\n",
            "  File \"c:\\Learning\\Huggingface-AI-Agent-Course\\.venv\\Lib\\site-packages\\litellm\\litellm_core_utils\\model_param_helper.py\", line 28, in get_standard_logging_model_parameters\n",
            "    ModelParamHelper._get_relevant_args_to_use_for_logging()\n",
            "  File \"c:\\Learning\\Huggingface-AI-Agent-Course\\.venv\\Lib\\site-packages\\litellm\\litellm_core_utils\\model_param_helper.py\", line 45, in _get_relevant_args_to_use_for_logging\n",
            "    all_openai_llm_api_params = ModelParamHelper._get_all_llm_api_params()\n",
            "                                ^^^^^^^^^^^^^^^^^^^^^^^^^^^^^^^^^^^^^^^^^^\n",
            "  File \"c:\\Learning\\Huggingface-AI-Agent-Course\\.venv\\Lib\\site-packages\\litellm\\litellm_core_utils\\model_param_helper.py\", line 65, in _get_all_llm_api_params\n",
            "    ModelParamHelper._get_litellm_supported_transcription_kwargs()\n",
            "  File \"c:\\Learning\\Huggingface-AI-Agent-Course\\.venv\\Lib\\site-packages\\litellm\\litellm_core_utils\\model_param_helper.py\", line 126, in _get_litellm_supported_transcription_kwargs\n",
            "    return set(TranscriptionCreateParams.__annotations__.keys())\n",
            "               ^^^^^^^^^^^^^^^^^^^^^^^^^^^^^^^^^^^^^^^^^\n",
            "  File \"C:\\Python312\\Lib\\typing.py\", line 1213, in __getattr__\n",
            "    raise AttributeError(attr)\n",
            "AttributeError: __annotations__\n",
            "\u001b[92m13:30:55 - LiteLLM:ERROR\u001b[0m: litellm_logging.py:3525 - Error creating standard logging object - __annotations__\n",
            "Traceback (most recent call last):\n",
            "  File \"c:\\Learning\\Huggingface-AI-Agent-Course\\.venv\\Lib\\site-packages\\litellm\\litellm_core_utils\\litellm_logging.py\", line 3507, in get_standard_logging_object_payload\n",
            "    model_parameters=ModelParamHelper.get_standard_logging_model_parameters(\n",
            "                     ^^^^^^^^^^^^^^^^^^^^^^^^^^^^^^^^^^^^^^^^^^^^^^^^^^^^^^^\n",
            "  File \"c:\\Learning\\Huggingface-AI-Agent-Course\\.venv\\Lib\\site-packages\\litellm\\litellm_core_utils\\model_param_helper.py\", line 28, in get_standard_logging_model_parameters\n",
            "    ModelParamHelper._get_relevant_args_to_use_for_logging()\n",
            "  File \"c:\\Learning\\Huggingface-AI-Agent-Course\\.venv\\Lib\\site-packages\\litellm\\litellm_core_utils\\model_param_helper.py\", line 45, in _get_relevant_args_to_use_for_logging\n",
            "    all_openai_llm_api_params = ModelParamHelper._get_all_llm_api_params()\n",
            "                                ^^^^^^^^^^^^^^^^^^^^^^^^^^^^^^^^^^^^^^^^^^\n",
            "  File \"c:\\Learning\\Huggingface-AI-Agent-Course\\.venv\\Lib\\site-packages\\litellm\\litellm_core_utils\\model_param_helper.py\", line 65, in _get_all_llm_api_params\n",
            "    ModelParamHelper._get_litellm_supported_transcription_kwargs()\n",
            "  File \"c:\\Learning\\Huggingface-AI-Agent-Course\\.venv\\Lib\\site-packages\\litellm\\litellm_core_utils\\model_param_helper.py\", line 126, in _get_litellm_supported_transcription_kwargs\n",
            "    return set(TranscriptionCreateParams.__annotations__.keys())\n",
            "               ^^^^^^^^^^^^^^^^^^^^^^^^^^^^^^^^^^^^^^^^^\n",
            "  File \"C:\\Python312\\Lib\\typing.py\", line 1213, in __getattr__\n",
            "    raise AttributeError(attr)\n",
            "AttributeError: __annotations__\n",
            "\u001b[92m13:30:57 - LiteLLM:ERROR\u001b[0m: litellm_logging.py:3525 - Error creating standard logging object - __annotations__\n",
            "Traceback (most recent call last):\n",
            "  File \"c:\\Learning\\Huggingface-AI-Agent-Course\\.venv\\Lib\\site-packages\\litellm\\litellm_core_utils\\litellm_logging.py\", line 3507, in get_standard_logging_object_payload\n",
            "    model_parameters=ModelParamHelper.get_standard_logging_model_parameters(\n",
            "                     ^^^^^^^^^^^^^^^^^^^^^^^^^^^^^^^^^^^^^^^^^^^^^^^^^^^^^^^\n",
            "  File \"c:\\Learning\\Huggingface-AI-Agent-Course\\.venv\\Lib\\site-packages\\litellm\\litellm_core_utils\\model_param_helper.py\", line 28, in get_standard_logging_model_parameters\n",
            "    ModelParamHelper._get_relevant_args_to_use_for_logging()\n",
            "  File \"c:\\Learning\\Huggingface-AI-Agent-Course\\.venv\\Lib\\site-packages\\litellm\\litellm_core_utils\\model_param_helper.py\", line 45, in _get_relevant_args_to_use_for_logging\n",
            "    all_openai_llm_api_params = ModelParamHelper._get_all_llm_api_params()\n",
            "                                ^^^^^^^^^^^^^^^^^^^^^^^^^^^^^^^^^^^^^^^^^^\n",
            "  File \"c:\\Learning\\Huggingface-AI-Agent-Course\\.venv\\Lib\\site-packages\\litellm\\litellm_core_utils\\model_param_helper.py\", line 65, in _get_all_llm_api_params\n",
            "    ModelParamHelper._get_litellm_supported_transcription_kwargs()\n",
            "  File \"c:\\Learning\\Huggingface-AI-Agent-Course\\.venv\\Lib\\site-packages\\litellm\\litellm_core_utils\\model_param_helper.py\", line 126, in _get_litellm_supported_transcription_kwargs\n",
            "    return set(TranscriptionCreateParams.__annotations__.keys())\n",
            "               ^^^^^^^^^^^^^^^^^^^^^^^^^^^^^^^^^^^^^^^^^\n",
            "  File \"C:\\Python312\\Lib\\typing.py\", line 1213, in __getattr__\n",
            "    raise AttributeError(attr)\n",
            "AttributeError: __annotations__\n",
            "\u001b[92m13:30:57 - LiteLLM:ERROR\u001b[0m: litellm_logging.py:3525 - Error creating standard logging object - __annotations__\n",
            "Traceback (most recent call last):\n",
            "  File \"c:\\Learning\\Huggingface-AI-Agent-Course\\.venv\\Lib\\site-packages\\litellm\\litellm_core_utils\\litellm_logging.py\", line 3507, in get_standard_logging_object_payload\n",
            "    model_parameters=ModelParamHelper.get_standard_logging_model_parameters(\n",
            "                     ^^^^^^^^^^^^^^^^^^^^^^^^^^^^^^^^^^^^^^^^^^^^^^^^^^^^^^^\n",
            "  File \"c:\\Learning\\Huggingface-AI-Agent-Course\\.venv\\Lib\\site-packages\\litellm\\litellm_core_utils\\model_param_helper.py\", line 28, in get_standard_logging_model_parameters\n",
            "    ModelParamHelper._get_relevant_args_to_use_for_logging()\n",
            "  File \"c:\\Learning\\Huggingface-AI-Agent-Course\\.venv\\Lib\\site-packages\\litellm\\litellm_core_utils\\model_param_helper.py\", line 45, in _get_relevant_args_to_use_for_logging\n",
            "    all_openai_llm_api_params = ModelParamHelper._get_all_llm_api_params()\n",
            "                                ^^^^^^^^^^^^^^^^^^^^^^^^^^^^^^^^^^^^^^^^^^\n",
            "  File \"c:\\Learning\\Huggingface-AI-Agent-Course\\.venv\\Lib\\site-packages\\litellm\\litellm_core_utils\\model_param_helper.py\", line 65, in _get_all_llm_api_params\n",
            "    ModelParamHelper._get_litellm_supported_transcription_kwargs()\n",
            "  File \"c:\\Learning\\Huggingface-AI-Agent-Course\\.venv\\Lib\\site-packages\\litellm\\litellm_core_utils\\model_param_helper.py\", line 126, in _get_litellm_supported_transcription_kwargs\n",
            "    return set(TranscriptionCreateParams.__annotations__.keys())\n",
            "               ^^^^^^^^^^^^^^^^^^^^^^^^^^^^^^^^^^^^^^^^^\n",
            "  File \"C:\\Python312\\Lib\\typing.py\", line 1213, in __getattr__\n",
            "    raise AttributeError(attr)\n",
            "AttributeError: __annotations__\n"
          ]
        },
        {
          "data": {
            "text/html": [
              "<pre style=\"white-space:pre;overflow-x:auto;line-height:normal;font-family:Menlo,'DejaVu Sans Mono',consolas,'Courier New',monospace\"> ─ <span style=\"font-weight: bold\">Executing parsed code:</span> ──────────────────────────────────────────────────────────────────────────────────────── \n",
              "  <span style=\"color: #f8f8f2; text-decoration-color: #f8f8f2; background-color: #272822\">query </span><span style=\"color: #ff4689; text-decoration-color: #ff4689; background-color: #272822\">=</span><span style=\"color: #f8f8f2; text-decoration-color: #f8f8f2; background-color: #272822\"> </span><span style=\"color: #e6db74; text-decoration-color: #e6db74; background-color: #272822\">\"luxury superhero party ideas entertainment catering decoration\"</span><span style=\"background-color: #272822\">                                       </span>  \n",
              "  <span style=\"color: #f8f8f2; text-decoration-color: #f8f8f2; background-color: #272822\">party_ideas </span><span style=\"color: #ff4689; text-decoration-color: #ff4689; background-color: #272822\">=</span><span style=\"color: #f8f8f2; text-decoration-color: #f8f8f2; background-color: #272822\"> party_planning_retriever(query</span><span style=\"color: #ff4689; text-decoration-color: #ff4689; background-color: #272822\">=</span><span style=\"color: #f8f8f2; text-decoration-color: #f8f8f2; background-color: #272822\">query)</span><span style=\"background-color: #272822\">                                                            </span>  \n",
              "  <span style=\"color: #f8f8f2; text-decoration-color: #f8f8f2; background-color: #272822\">print(party_ideas)</span><span style=\"background-color: #272822\">                                                                                             </span>  \n",
              " ───────────────────────────────────────────────────────────────────────────────────────────────────────────────── \n",
              "</pre>\n"
            ],
            "text/plain": [
              " ─ \u001b[1mExecuting parsed code:\u001b[0m ──────────────────────────────────────────────────────────────────────────────────────── \n",
              "  \u001b[38;2;248;248;242;48;2;39;40;34mquery\u001b[0m\u001b[38;2;248;248;242;48;2;39;40;34m \u001b[0m\u001b[38;2;255;70;137;48;2;39;40;34m=\u001b[0m\u001b[38;2;248;248;242;48;2;39;40;34m \u001b[0m\u001b[38;2;230;219;116;48;2;39;40;34m\"\u001b[0m\u001b[38;2;230;219;116;48;2;39;40;34mluxury superhero party ideas entertainment catering decoration\u001b[0m\u001b[38;2;230;219;116;48;2;39;40;34m\"\u001b[0m\u001b[48;2;39;40;34m                                       \u001b[0m  \n",
              "  \u001b[38;2;248;248;242;48;2;39;40;34mparty_ideas\u001b[0m\u001b[38;2;248;248;242;48;2;39;40;34m \u001b[0m\u001b[38;2;255;70;137;48;2;39;40;34m=\u001b[0m\u001b[38;2;248;248;242;48;2;39;40;34m \u001b[0m\u001b[38;2;248;248;242;48;2;39;40;34mparty_planning_retriever\u001b[0m\u001b[38;2;248;248;242;48;2;39;40;34m(\u001b[0m\u001b[38;2;248;248;242;48;2;39;40;34mquery\u001b[0m\u001b[38;2;255;70;137;48;2;39;40;34m=\u001b[0m\u001b[38;2;248;248;242;48;2;39;40;34mquery\u001b[0m\u001b[38;2;248;248;242;48;2;39;40;34m)\u001b[0m\u001b[48;2;39;40;34m                                                            \u001b[0m  \n",
              "  \u001b[38;2;248;248;242;48;2;39;40;34mprint\u001b[0m\u001b[38;2;248;248;242;48;2;39;40;34m(\u001b[0m\u001b[38;2;248;248;242;48;2;39;40;34mparty_ideas\u001b[0m\u001b[38;2;248;248;242;48;2;39;40;34m)\u001b[0m\u001b[48;2;39;40;34m                                                                                             \u001b[0m  \n",
              " ───────────────────────────────────────────────────────────────────────────────────────────────────────────────── \n"
            ]
          },
          "metadata": {},
          "output_type": "display_data"
        },
        {
          "data": {
            "text/html": [
              "<pre style=\"white-space:pre;overflow-x:auto;line-height:normal;font-family:Menlo,'DejaVu Sans Mono',consolas,'Courier New',monospace\"><span style=\"font-weight: bold\">Execution logs:</span>\n",
              "\n",
              "Retrieved ideas:\n",
              "\n",
              "\n",
              "===== Idea 0 =====\n",
              "A superhero-themed masquerade ball with luxury decor, including gold accents and velvet curtains.\n",
              "\n",
              "===== Idea 1 =====\n",
              "Decorate with iconic superhero logos and projections of Gotham and other superhero cities around the venue.\n",
              "\n",
              "===== Idea 2 =====\n",
              "Interactive experiences with VR where guests can engage in superhero simulations or compete in themed games.\n",
              "\n",
              "===== Idea 3 =====\n",
              "For catering, serve dishes named after superheroes, like 'The Hulk's Green Smoothie' and 'Iron Man's Power Steak.'\n",
              "\n",
              "===== Idea 4 =====\n",
              "Hire a professional DJ who can play themed music for superheroes like Batman and Wonder Woman.\n",
              "\n",
              "Out: None\n",
              "</pre>\n"
            ],
            "text/plain": [
              "\u001b[1mExecution logs:\u001b[0m\n",
              "\n",
              "Retrieved ideas:\n",
              "\n",
              "\n",
              "===== Idea 0 =====\n",
              "A superhero-themed masquerade ball with luxury decor, including gold accents and velvet curtains.\n",
              "\n",
              "===== Idea 1 =====\n",
              "Decorate with iconic superhero logos and projections of Gotham and other superhero cities around the venue.\n",
              "\n",
              "===== Idea 2 =====\n",
              "Interactive experiences with VR where guests can engage in superhero simulations or compete in themed games.\n",
              "\n",
              "===== Idea 3 =====\n",
              "For catering, serve dishes named after superheroes, like 'The Hulk's Green Smoothie' and 'Iron Man's Power Steak.'\n",
              "\n",
              "===== Idea 4 =====\n",
              "Hire a professional DJ who can play themed music for superheroes like Batman and Wonder Woman.\n",
              "\n",
              "Out: None\n"
            ]
          },
          "metadata": {},
          "output_type": "display_data"
        },
        {
          "data": {
            "text/html": [
              "<pre style=\"white-space:pre;overflow-x:auto;line-height:normal;font-family:Menlo,'DejaVu Sans Mono',consolas,'Courier New',monospace\"><span style=\"color: #7f7f7f; text-decoration-color: #7f7f7f\">[Step 1: Duration 1.79 seconds| Input tokens: 2,264 | Output tokens: 88]</span>\n",
              "</pre>\n"
            ],
            "text/plain": [
              "\u001b[2m[Step 1: Duration 1.79 seconds| Input tokens: 2,264 | Output tokens: 88]\u001b[0m\n"
            ]
          },
          "metadata": {},
          "output_type": "display_data"
        },
        {
          "data": {
            "text/html": [
              "<pre style=\"white-space:pre;overflow-x:auto;line-height:normal;font-family:Menlo,'DejaVu Sans Mono',consolas,'Courier New',monospace\"><span style=\"color: #d4b702; text-decoration-color: #d4b702\">━━━━━━━━━━━━━━━━━━━━━━━━━━━━━━━━━━━━━━━━━━━━━━━━━━━━━ </span><span style=\"font-weight: bold\">Step </span><span style=\"color: #008080; text-decoration-color: #008080; font-weight: bold\">2</span><span style=\"color: #d4b702; text-decoration-color: #d4b702\"> ━━━━━━━━━━━━━━━━━━━━━━━━━━━━━━━━━━━━━━━━━━━━━━━━━━━━━━</span>\n",
              "</pre>\n"
            ],
            "text/plain": [
              "\u001b[38;2;212;183;2m━━━━━━━━━━━━━━━━━━━━━━━━━━━━━━━━━━━━━━━━━━━━━━━━━━━━━ \u001b[0m\u001b[1mStep \u001b[0m\u001b[1;36m2\u001b[0m\u001b[38;2;212;183;2m ━━━━━━━━━━━━━━━━━━━━━━━━━━━━━━━━━━━━━━━━━━━━━━━━━━━━━━\u001b[0m\n"
            ]
          },
          "metadata": {},
          "output_type": "display_data"
        },
        {
          "data": {
            "text/html": [
              "<pre style=\"white-space:pre;overflow-x:auto;line-height:normal;font-family:Menlo,'DejaVu Sans Mono',consolas,'Courier New',monospace\"> ─ <span style=\"font-weight: bold\">Executing parsed code:</span> ──────────────────────────────────────────────────────────────────────────────────────── \n",
              "  <span style=\"color: #f8f8f2; text-decoration-color: #f8f8f2; background-color: #272822\">entertainment_ideas </span><span style=\"color: #ff4689; text-decoration-color: #ff4689; background-color: #272822\">=</span><span style=\"color: #f8f8f2; text-decoration-color: #f8f8f2; background-color: #272822\"> [</span><span style=\"background-color: #272822\">                                                                                        </span>  \n",
              "  <span style=\"color: #f8f8f2; text-decoration-color: #f8f8f2; background-color: #272822\">    </span><span style=\"color: #e6db74; text-decoration-color: #e6db74; background-color: #272822\">\"Interactive VR experiences with superhero simulations\"</span><span style=\"color: #f8f8f2; text-decoration-color: #f8f8f2; background-color: #272822\">,</span><span style=\"background-color: #272822\">                                                   </span>  \n",
              "  <span style=\"color: #f8f8f2; text-decoration-color: #f8f8f2; background-color: #272822\">    </span><span style=\"color: #e6db74; text-decoration-color: #e6db74; background-color: #272822\">\"Themed music by a professional DJ (Batman, Wonder Woman)\"</span><span style=\"color: #f8f8f2; text-decoration-color: #f8f8f2; background-color: #272822\">,</span><span style=\"background-color: #272822\">                                                </span>  \n",
              "  <span style=\"color: #f8f8f2; text-decoration-color: #f8f8f2; background-color: #272822\">]</span><span style=\"background-color: #272822\">                                                                                                              </span>  \n",
              "  <span style=\"background-color: #272822\">                                                                                                               </span>  \n",
              "  <span style=\"color: #f8f8f2; text-decoration-color: #f8f8f2; background-color: #272822\">catering_ideas </span><span style=\"color: #ff4689; text-decoration-color: #ff4689; background-color: #272822\">=</span><span style=\"color: #f8f8f2; text-decoration-color: #f8f8f2; background-color: #272822\"> [</span><span style=\"background-color: #272822\">                                                                                             </span>  \n",
              "  <span style=\"color: #f8f8f2; text-decoration-color: #f8f8f2; background-color: #272822\">    </span><span style=\"color: #e6db74; text-decoration-color: #e6db74; background-color: #272822\">\"Dishes named after superheroes (e.g., 'The Hulk's Green Smoothie', 'Iron Man's Power Steak')\"</span><span style=\"color: #f8f8f2; text-decoration-color: #f8f8f2; background-color: #272822\">,</span><span style=\"background-color: #272822\">            </span>  \n",
              "  <span style=\"color: #f8f8f2; text-decoration-color: #f8f8f2; background-color: #272822\">]</span><span style=\"background-color: #272822\">                                                                                                              </span>  \n",
              "  <span style=\"background-color: #272822\">                                                                                                               </span>  \n",
              "  <span style=\"color: #f8f8f2; text-decoration-color: #f8f8f2; background-color: #272822\">decoration_ideas </span><span style=\"color: #ff4689; text-decoration-color: #ff4689; background-color: #272822\">=</span><span style=\"color: #f8f8f2; text-decoration-color: #f8f8f2; background-color: #272822\"> [</span><span style=\"background-color: #272822\">                                                                                           </span>  \n",
              "  <span style=\"color: #f8f8f2; text-decoration-color: #f8f8f2; background-color: #272822\">    </span><span style=\"color: #e6db74; text-decoration-color: #e6db74; background-color: #272822\">\"Superhero-themed masquerade ball with luxury decor (gold accents, velvet curtains)\"</span><span style=\"color: #f8f8f2; text-decoration-color: #f8f8f2; background-color: #272822\">,</span><span style=\"background-color: #272822\">                      </span>  \n",
              "  <span style=\"color: #f8f8f2; text-decoration-color: #f8f8f2; background-color: #272822\">    </span><span style=\"color: #e6db74; text-decoration-color: #e6db74; background-color: #272822\">\"Iconic superhero logos and projections of Gotham and other superhero cities\"</span><span style=\"color: #f8f8f2; text-decoration-color: #f8f8f2; background-color: #272822\">,</span><span style=\"background-color: #272822\">                             </span>  \n",
              "  <span style=\"color: #f8f8f2; text-decoration-color: #f8f8f2; background-color: #272822\">]</span><span style=\"background-color: #272822\">                                                                                                              </span>  \n",
              "  <span style=\"background-color: #272822\">                                                                                                               </span>  \n",
              "  <span style=\"color: #f8f8f2; text-decoration-color: #f8f8f2; background-color: #272822\">final_answer({</span><span style=\"background-color: #272822\">                                                                                                 </span>  \n",
              "  <span style=\"color: #f8f8f2; text-decoration-color: #f8f8f2; background-color: #272822\">    </span><span style=\"color: #e6db74; text-decoration-color: #e6db74; background-color: #272822\">\"entertainment\"</span><span style=\"color: #f8f8f2; text-decoration-color: #f8f8f2; background-color: #272822\">: entertainment_ideas,</span><span style=\"background-color: #272822\">                                                                      </span>  \n",
              "  <span style=\"color: #f8f8f2; text-decoration-color: #f8f8f2; background-color: #272822\">    </span><span style=\"color: #e6db74; text-decoration-color: #e6db74; background-color: #272822\">\"catering\"</span><span style=\"color: #f8f8f2; text-decoration-color: #f8f8f2; background-color: #272822\">: catering_ideas,</span><span style=\"background-color: #272822\">                                                                                </span>  \n",
              "  <span style=\"color: #f8f8f2; text-decoration-color: #f8f8f2; background-color: #272822\">    </span><span style=\"color: #e6db74; text-decoration-color: #e6db74; background-color: #272822\">\"decoration\"</span><span style=\"color: #f8f8f2; text-decoration-color: #f8f8f2; background-color: #272822\">: decoration_ideas,</span><span style=\"background-color: #272822\">                                                                            </span>  \n",
              "  <span style=\"color: #f8f8f2; text-decoration-color: #f8f8f2; background-color: #272822\">})</span><span style=\"background-color: #272822\">                                                                                                             </span>  \n",
              " ───────────────────────────────────────────────────────────────────────────────────────────────────────────────── \n",
              "</pre>\n"
            ],
            "text/plain": [
              " ─ \u001b[1mExecuting parsed code:\u001b[0m ──────────────────────────────────────────────────────────────────────────────────────── \n",
              "  \u001b[38;2;248;248;242;48;2;39;40;34mentertainment_ideas\u001b[0m\u001b[38;2;248;248;242;48;2;39;40;34m \u001b[0m\u001b[38;2;255;70;137;48;2;39;40;34m=\u001b[0m\u001b[38;2;248;248;242;48;2;39;40;34m \u001b[0m\u001b[38;2;248;248;242;48;2;39;40;34m[\u001b[0m\u001b[48;2;39;40;34m                                                                                        \u001b[0m  \n",
              "  \u001b[38;2;248;248;242;48;2;39;40;34m    \u001b[0m\u001b[38;2;230;219;116;48;2;39;40;34m\"\u001b[0m\u001b[38;2;230;219;116;48;2;39;40;34mInteractive VR experiences with superhero simulations\u001b[0m\u001b[38;2;230;219;116;48;2;39;40;34m\"\u001b[0m\u001b[38;2;248;248;242;48;2;39;40;34m,\u001b[0m\u001b[48;2;39;40;34m                                                   \u001b[0m  \n",
              "  \u001b[38;2;248;248;242;48;2;39;40;34m    \u001b[0m\u001b[38;2;230;219;116;48;2;39;40;34m\"\u001b[0m\u001b[38;2;230;219;116;48;2;39;40;34mThemed music by a professional DJ (Batman, Wonder Woman)\u001b[0m\u001b[38;2;230;219;116;48;2;39;40;34m\"\u001b[0m\u001b[38;2;248;248;242;48;2;39;40;34m,\u001b[0m\u001b[48;2;39;40;34m                                                \u001b[0m  \n",
              "  \u001b[38;2;248;248;242;48;2;39;40;34m]\u001b[0m\u001b[48;2;39;40;34m                                                                                                              \u001b[0m  \n",
              "  \u001b[48;2;39;40;34m                                                                                                               \u001b[0m  \n",
              "  \u001b[38;2;248;248;242;48;2;39;40;34mcatering_ideas\u001b[0m\u001b[38;2;248;248;242;48;2;39;40;34m \u001b[0m\u001b[38;2;255;70;137;48;2;39;40;34m=\u001b[0m\u001b[38;2;248;248;242;48;2;39;40;34m \u001b[0m\u001b[38;2;248;248;242;48;2;39;40;34m[\u001b[0m\u001b[48;2;39;40;34m                                                                                             \u001b[0m  \n",
              "  \u001b[38;2;248;248;242;48;2;39;40;34m    \u001b[0m\u001b[38;2;230;219;116;48;2;39;40;34m\"\u001b[0m\u001b[38;2;230;219;116;48;2;39;40;34mDishes named after superheroes (e.g., \u001b[0m\u001b[38;2;230;219;116;48;2;39;40;34m'\u001b[0m\u001b[38;2;230;219;116;48;2;39;40;34mThe Hulk\u001b[0m\u001b[38;2;230;219;116;48;2;39;40;34m'\u001b[0m\u001b[38;2;230;219;116;48;2;39;40;34ms Green Smoothie\u001b[0m\u001b[38;2;230;219;116;48;2;39;40;34m'\u001b[0m\u001b[38;2;230;219;116;48;2;39;40;34m, \u001b[0m\u001b[38;2;230;219;116;48;2;39;40;34m'\u001b[0m\u001b[38;2;230;219;116;48;2;39;40;34mIron Man\u001b[0m\u001b[38;2;230;219;116;48;2;39;40;34m'\u001b[0m\u001b[38;2;230;219;116;48;2;39;40;34ms Power Steak\u001b[0m\u001b[38;2;230;219;116;48;2;39;40;34m'\u001b[0m\u001b[38;2;230;219;116;48;2;39;40;34m)\u001b[0m\u001b[38;2;230;219;116;48;2;39;40;34m\"\u001b[0m\u001b[38;2;248;248;242;48;2;39;40;34m,\u001b[0m\u001b[48;2;39;40;34m            \u001b[0m  \n",
              "  \u001b[38;2;248;248;242;48;2;39;40;34m]\u001b[0m\u001b[48;2;39;40;34m                                                                                                              \u001b[0m  \n",
              "  \u001b[48;2;39;40;34m                                                                                                               \u001b[0m  \n",
              "  \u001b[38;2;248;248;242;48;2;39;40;34mdecoration_ideas\u001b[0m\u001b[38;2;248;248;242;48;2;39;40;34m \u001b[0m\u001b[38;2;255;70;137;48;2;39;40;34m=\u001b[0m\u001b[38;2;248;248;242;48;2;39;40;34m \u001b[0m\u001b[38;2;248;248;242;48;2;39;40;34m[\u001b[0m\u001b[48;2;39;40;34m                                                                                           \u001b[0m  \n",
              "  \u001b[38;2;248;248;242;48;2;39;40;34m    \u001b[0m\u001b[38;2;230;219;116;48;2;39;40;34m\"\u001b[0m\u001b[38;2;230;219;116;48;2;39;40;34mSuperhero-themed masquerade ball with luxury decor (gold accents, velvet curtains)\u001b[0m\u001b[38;2;230;219;116;48;2;39;40;34m\"\u001b[0m\u001b[38;2;248;248;242;48;2;39;40;34m,\u001b[0m\u001b[48;2;39;40;34m                      \u001b[0m  \n",
              "  \u001b[38;2;248;248;242;48;2;39;40;34m    \u001b[0m\u001b[38;2;230;219;116;48;2;39;40;34m\"\u001b[0m\u001b[38;2;230;219;116;48;2;39;40;34mIconic superhero logos and projections of Gotham and other superhero cities\u001b[0m\u001b[38;2;230;219;116;48;2;39;40;34m\"\u001b[0m\u001b[38;2;248;248;242;48;2;39;40;34m,\u001b[0m\u001b[48;2;39;40;34m                             \u001b[0m  \n",
              "  \u001b[38;2;248;248;242;48;2;39;40;34m]\u001b[0m\u001b[48;2;39;40;34m                                                                                                              \u001b[0m  \n",
              "  \u001b[48;2;39;40;34m                                                                                                               \u001b[0m  \n",
              "  \u001b[38;2;248;248;242;48;2;39;40;34mfinal_answer\u001b[0m\u001b[38;2;248;248;242;48;2;39;40;34m(\u001b[0m\u001b[38;2;248;248;242;48;2;39;40;34m{\u001b[0m\u001b[48;2;39;40;34m                                                                                                 \u001b[0m  \n",
              "  \u001b[38;2;248;248;242;48;2;39;40;34m    \u001b[0m\u001b[38;2;230;219;116;48;2;39;40;34m\"\u001b[0m\u001b[38;2;230;219;116;48;2;39;40;34mentertainment\u001b[0m\u001b[38;2;230;219;116;48;2;39;40;34m\"\u001b[0m\u001b[38;2;248;248;242;48;2;39;40;34m:\u001b[0m\u001b[38;2;248;248;242;48;2;39;40;34m \u001b[0m\u001b[38;2;248;248;242;48;2;39;40;34mentertainment_ideas\u001b[0m\u001b[38;2;248;248;242;48;2;39;40;34m,\u001b[0m\u001b[48;2;39;40;34m                                                                      \u001b[0m  \n",
              "  \u001b[38;2;248;248;242;48;2;39;40;34m    \u001b[0m\u001b[38;2;230;219;116;48;2;39;40;34m\"\u001b[0m\u001b[38;2;230;219;116;48;2;39;40;34mcatering\u001b[0m\u001b[38;2;230;219;116;48;2;39;40;34m\"\u001b[0m\u001b[38;2;248;248;242;48;2;39;40;34m:\u001b[0m\u001b[38;2;248;248;242;48;2;39;40;34m \u001b[0m\u001b[38;2;248;248;242;48;2;39;40;34mcatering_ideas\u001b[0m\u001b[38;2;248;248;242;48;2;39;40;34m,\u001b[0m\u001b[48;2;39;40;34m                                                                                \u001b[0m  \n",
              "  \u001b[38;2;248;248;242;48;2;39;40;34m    \u001b[0m\u001b[38;2;230;219;116;48;2;39;40;34m\"\u001b[0m\u001b[38;2;230;219;116;48;2;39;40;34mdecoration\u001b[0m\u001b[38;2;230;219;116;48;2;39;40;34m\"\u001b[0m\u001b[38;2;248;248;242;48;2;39;40;34m:\u001b[0m\u001b[38;2;248;248;242;48;2;39;40;34m \u001b[0m\u001b[38;2;248;248;242;48;2;39;40;34mdecoration_ideas\u001b[0m\u001b[38;2;248;248;242;48;2;39;40;34m,\u001b[0m\u001b[48;2;39;40;34m                                                                            \u001b[0m  \n",
              "  \u001b[38;2;248;248;242;48;2;39;40;34m}\u001b[0m\u001b[38;2;248;248;242;48;2;39;40;34m)\u001b[0m\u001b[48;2;39;40;34m                                                                                                             \u001b[0m  \n",
              " ───────────────────────────────────────────────────────────────────────────────────────────────────────────────── \n"
            ]
          },
          "metadata": {},
          "output_type": "display_data"
        },
        {
          "data": {
            "text/html": [
              "<pre style=\"white-space:pre;overflow-x:auto;line-height:normal;font-family:Menlo,'DejaVu Sans Mono',consolas,'Courier New',monospace\"><span style=\"color: #d4b702; text-decoration-color: #d4b702; font-weight: bold\">Out - Final answer: {'entertainment': ['Interactive VR experiences with superhero simulations', 'Themed music by a </span>\n",
              "<span style=\"color: #d4b702; text-decoration-color: #d4b702; font-weight: bold\">professional DJ (Batman, Wonder Woman)'], 'catering': [\"Dishes named after superheroes (e.g., 'The Hulk's Green </span>\n",
              "<span style=\"color: #d4b702; text-decoration-color: #d4b702; font-weight: bold\">Smoothie', 'Iron Man's Power Steak')\"], 'decoration': ['Superhero-themed masquerade ball with luxury decor (gold </span>\n",
              "<span style=\"color: #d4b702; text-decoration-color: #d4b702; font-weight: bold\">accents, velvet curtains)', 'Iconic superhero logos and projections of Gotham and other superhero cities']}</span>\n",
              "</pre>\n"
            ],
            "text/plain": [
              "\u001b[1;38;2;212;183;2mOut - Final answer: {'entertainment': ['Interactive VR experiences with superhero simulations', 'Themed music by a \u001b[0m\n",
              "\u001b[1;38;2;212;183;2mprofessional DJ (Batman, Wonder Woman)'], 'catering': [\"Dishes named after superheroes (e.g., 'The Hulk's Green \u001b[0m\n",
              "\u001b[1;38;2;212;183;2mSmoothie', 'Iron Man's Power Steak')\"], 'decoration': ['Superhero-themed masquerade ball with luxury decor (gold \u001b[0m\n",
              "\u001b[1;38;2;212;183;2maccents, velvet curtains)', 'Iconic superhero logos and projections of Gotham and other superhero cities']}\u001b[0m\n"
            ]
          },
          "metadata": {},
          "output_type": "display_data"
        },
        {
          "data": {
            "text/html": [
              "<pre style=\"white-space:pre;overflow-x:auto;line-height:normal;font-family:Menlo,'DejaVu Sans Mono',consolas,'Courier New',monospace\"><span style=\"color: #7f7f7f; text-decoration-color: #7f7f7f\">[Step 2: Duration 2.42 seconds| Input tokens: 4,848 | Output tokens: 279]</span>\n",
              "</pre>\n"
            ],
            "text/plain": [
              "\u001b[2m[Step 2: Duration 2.42 seconds| Input tokens: 4,848 | Output tokens: 279]\u001b[0m\n"
            ]
          },
          "metadata": {},
          "output_type": "display_data"
        },
        {
          "name": "stdout",
          "output_type": "stream",
          "text": [
            "{'entertainment': ['Interactive VR experiences with superhero simulations', 'Themed music by a professional DJ (Batman, Wonder Woman)'], 'catering': [\"Dishes named after superheroes (e.g., 'The Hulk's Green Smoothie', 'Iron Man's Power Steak')\"], 'decoration': ['Superhero-themed masquerade ball with luxury decor (gold accents, velvet curtains)', 'Iconic superhero logos and projections of Gotham and other superhero cities']}\n"
          ]
        }
      ],
      "source": [
        "from langchain.docstore.document import Document\n",
        "from langchain.text_splitter import RecursiveCharacterTextSplitter\n",
        "from smolagents import Tool\n",
        "from langchain_community.retrievers import BM25Retriever\n",
        "from smolagents import CodeAgent, HfApiModel\n",
        "\n",
        "class PartyPlanningRetrieverTool(Tool):\n",
        "    name = \"party_planning_retriever\"\n",
        "    description = \"Uses semantic search to retrieve relevant party planning ideas for Alfred’s superhero-themed party at Wayne Manor.\"\n",
        "    inputs = {\n",
        "        \"query\": {\n",
        "            \"type\": \"string\",\n",
        "            \"description\": \"The query to perform. This should be a query related to party planning or superhero themes.\",\n",
        "        }\n",
        "    }\n",
        "    output_type = \"string\"\n",
        "\n",
        "    def __init__(self, docs, **kwargs):\n",
        "        super().__init__(**kwargs)\n",
        "        self.retriever = BM25Retriever.from_documents(\n",
        "            docs, k=5  # Retrieve the top 5 documents\n",
        "        )\n",
        "\n",
        "    def forward(self, query: str) -> str:\n",
        "        assert isinstance(query, str), \"Your search query must be a string\"\n",
        "\n",
        "        docs = self.retriever.invoke(\n",
        "            query,\n",
        "        )\n",
        "        return \"\\nRetrieved ideas:\\n\" + \"\".join(\n",
        "            [\n",
        "                f\"\\n\\n===== Idea {str(i)} =====\\n\" + doc.page_content\n",
        "                for i, doc in enumerate(docs)\n",
        "            ]\n",
        "        )\n",
        "\n",
        "# Simulate a knowledge base about party planning\n",
        "party_ideas = [\n",
        "    {\"text\": \"A superhero-themed masquerade ball with luxury decor, including gold accents and velvet curtains.\", \"source\": \"Party Ideas 1\"},\n",
        "    {\"text\": \"Hire a professional DJ who can play themed music for superheroes like Batman and Wonder Woman.\", \"source\": \"Entertainment Ideas\"},\n",
        "    {\"text\": \"For catering, serve dishes named after superheroes, like 'The Hulk's Green Smoothie' and 'Iron Man's Power Steak.'\", \"source\": \"Catering Ideas\"},\n",
        "    {\"text\": \"Decorate with iconic superhero logos and projections of Gotham and other superhero cities around the venue.\", \"source\": \"Decoration Ideas\"},\n",
        "    {\"text\": \"Interactive experiences with VR where guests can engage in superhero simulations or compete in themed games.\", \"source\": \"Entertainment Ideas\"}\n",
        "]\n",
        "\n",
        "source_docs = [\n",
        "    Document(page_content=doc[\"text\"], metadata={\"source\": doc[\"source\"]})\n",
        "    for doc in party_ideas\n",
        "]\n",
        "\n",
        "# Split the documents into smaller chunks for more efficient search\n",
        "text_splitter = RecursiveCharacterTextSplitter(\n",
        "    chunk_size=500,\n",
        "    chunk_overlap=50,\n",
        "    add_start_index=True,\n",
        "    strip_whitespace=True,\n",
        "    separators=[\"\\n\\n\", \"\\n\", \".\", \" \", \"\"],\n",
        ")\n",
        "docs_processed = text_splitter.split_documents(source_docs)\n",
        "\n",
        "# Create the retriever tool\n",
        "party_planning_retriever = PartyPlanningRetrieverTool(docs_processed)\n",
        "\n",
        "# Initialize the agent\n",
        "agent = CodeAgent(tools=[party_planning_retriever], model=llm_model)\n",
        "\n",
        "# Example usage\n",
        "response = agent.run(\n",
        "    \"Find ideas for a luxury superhero-themed party, including entertainment, catering, and decoration options.\"\n",
        ")\n",
        "\n",
        "print(response)"
      ]
    },
    {
      "cell_type": "markdown",
      "metadata": {
        "id": "uMENl0QaalSd"
      },
      "source": [
        "This enhanced agent can:\n",
        "1. First check the documentation for relevant information\n",
        "2. Combine insights from the knowledge base\n",
        "3. Maintain conversation context through memory"
      ]
    }
  ],
  "metadata": {
    "colab": {
      "provenance": []
    },
    "kernelspec": {
      "display_name": ".venv",
      "language": "python",
      "name": "python3"
    },
    "language_info": {
      "codemirror_mode": {
        "name": "ipython",
        "version": 3
      },
      "file_extension": ".py",
      "mimetype": "text/x-python",
      "name": "python",
      "nbconvert_exporter": "python",
      "pygments_lexer": "ipython3",
      "version": "3.12.9"
    }
  },
  "nbformat": 4,
  "nbformat_minor": 0
}
